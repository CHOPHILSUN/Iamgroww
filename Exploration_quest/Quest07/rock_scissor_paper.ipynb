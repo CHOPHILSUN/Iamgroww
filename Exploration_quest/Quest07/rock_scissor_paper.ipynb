{
 "cells": [
  {
   "cell_type": "code",
   "execution_count": 15,
   "id": "8c86d9d9",
   "metadata": {},
   "outputs": [
    {
     "name": "stdout",
     "output_type": "stream",
     "text": [
      "2.10.0\n",
      "1.26.0\n"
     ]
    }
   ],
   "source": [
    "import tensorflow as tf\n",
    "import numpy as np\n",
    "\n",
    "print(tf.__version__)\n",
    "print(np.__version__)\n",
    "\n",
    "from PIL import Image\n",
    "import glob\n",
    "import os"
   ]
  },
  {
   "cell_type": "code",
   "execution_count": 16,
   "id": "936b1c1c",
   "metadata": {},
   "outputs": [],
   "source": [
    "def resize_images(img_path):\n",
    "\timages=glob.glob(img_path + \"/*.jpg\")  \n",
    "    \n",
    "\tprint(len(images), \" images to be resized.\")\n",
    "\n",
    "    # 파일마다 모두 112x112 사이즈로 바꾸어 저장합니다.\n",
    "\ttarget_size=(112,112)\n",
    "\tfor img in images:\n",
    "\t\told_img=Image.open(img)\n",
    "\t\tnew_img=old_img.resize(target_size,Image.ANTIALIAS)\n",
    "\t\tnew_img.save(img, \"JPEG\")\n",
    "    \n",
    "\tprint(len(images), \" images resized.\")\n",
    "\n",
    "\n",
    "#리사이즈 함수 선언\n",
    "#Pillow 함수 9.10부터 ANTIALIAS 사라지고 RANCZOS 함수 사용\n",
    "\t"
   ]
  },
  {
   "cell_type": "code",
   "execution_count": 17,
   "id": "a4b13246",
   "metadata": {},
   "outputs": [
    {
     "name": "stdout",
     "output_type": "stream",
     "text": [
      "705  images to be resized.\n"
     ]
    },
    {
     "name": "stderr",
     "output_type": "stream",
     "text": [
      "C:\\Users\\Desk_Kang\\AppData\\Local\\Temp\\ipykernel_6916\\581946024.py:10: DeprecationWarning: ANTIALIAS is deprecated and will be removed in Pillow 10 (2023-07-01). Use LANCZOS or Resampling.LANCZOS instead.\n",
      "  new_img=old_img.resize(target_size,Image.ANTIALIAS)\n"
     ]
    },
    {
     "name": "stdout",
     "output_type": "stream",
     "text": [
      "705  images resized.\n",
      "가위 이미지 resize 완료!\n"
     ]
    }
   ],
   "source": [
    "# 가위 이미지가 저장된 디렉토리 아래의 모든 jpg 파일을 읽어들여서\n",
    "image_dir_path = 'C://Users/Desk_Kang/Desktop/Aiffel/workplace/Iamgroww/rock_scissor_paper/scissor'\n",
    "resize_images(image_dir_path)\n",
    "\n",
    "# 파일마다 모두 112x112 사이즈로 바꾸어 저장합니다.\n",
    "print(\"가위 이미지 resize 완료!\")\n"
   ]
  },
  {
   "cell_type": "code",
   "execution_count": 18,
   "id": "c92b7e8a",
   "metadata": {},
   "outputs": [
    {
     "name": "stdout",
     "output_type": "stream",
     "text": [
      "572  images to be resized.\n"
     ]
    },
    {
     "name": "stderr",
     "output_type": "stream",
     "text": [
      "C:\\Users\\Desk_Kang\\AppData\\Local\\Temp\\ipykernel_6916\\581946024.py:10: DeprecationWarning: ANTIALIAS is deprecated and will be removed in Pillow 10 (2023-07-01). Use LANCZOS or Resampling.LANCZOS instead.\n",
      "  new_img=old_img.resize(target_size,Image.ANTIALIAS)\n"
     ]
    },
    {
     "name": "stdout",
     "output_type": "stream",
     "text": [
      "572  images resized.\n",
      "바위 이미지 resize 완료!\n"
     ]
    }
   ],
   "source": [
    "# 바위 이미지가 저장된 디렉토리 아래의 모든 jpg 파일을 읽어들여서\n",
    "image_dir_path = 'C://Users/Desk_Kang/Desktop/Aiffel/workplace/Iamgroww/rock_scissor_paper/rock'\n",
    "resize_images(image_dir_path)\n",
    "\n",
    "# 파일마다 모두 112x112 사이즈로 바꾸어 저장합니다.\n",
    "print(\"바위 이미지 resize 완료!\")\n"
   ]
  },
  {
   "cell_type": "code",
   "execution_count": 19,
   "id": "ff306216",
   "metadata": {},
   "outputs": [
    {
     "name": "stdout",
     "output_type": "stream",
     "text": [
      "550  images to be resized.\n"
     ]
    },
    {
     "name": "stderr",
     "output_type": "stream",
     "text": [
      "C:\\Users\\Desk_Kang\\AppData\\Local\\Temp\\ipykernel_6916\\581946024.py:10: DeprecationWarning: ANTIALIAS is deprecated and will be removed in Pillow 10 (2023-07-01). Use LANCZOS or Resampling.LANCZOS instead.\n",
      "  new_img=old_img.resize(target_size,Image.ANTIALIAS)\n"
     ]
    },
    {
     "name": "stdout",
     "output_type": "stream",
     "text": [
      "550  images resized.\n",
      "보 이미지 resize 완료!\n"
     ]
    }
   ],
   "source": [
    "# 보 이미지가 저장된 디렉토리 아래의 모든 jpg 파일을 읽어들여서\n",
    "image_dir_path = 'C://Users/Desk_Kang/Desktop/Aiffel/workplace/Iamgroww/rock_scissor_paper/paper'\n",
    "resize_images(image_dir_path)\n",
    "\n",
    "# 파일마다 모두 112x112 사이즈로 바꾸어 저장합니다.\n",
    "print(\"보 이미지 resize 완료!\")"
   ]
  },
  {
   "cell_type": "code",
   "execution_count": 20,
   "id": "7a92c796",
   "metadata": {},
   "outputs": [],
   "source": [
    "import numpy as np\n",
    "from sklearn.model_selection import StratifiedKFold\n",
    "\n",
    "#분류에 좋다는 교차검증 가져와보기"
   ]
  },
  {
   "cell_type": "code",
   "execution_count": 21,
   "id": "4147448c",
   "metadata": {},
   "outputs": [
    {
     "name": "stdout",
     "output_type": "stream",
     "text": [
      "학습데이터(X)의 이미지 개수는 1827 입니다.\n",
      "X shape: (1827, 112, 112, 3)\n",
      "y shape: (1827,)\n"
     ]
    }
   ],
   "source": [
    "\n",
    "\n",
    "def load_data(img_path, number_of_data=1827):  # 가위바위보 이미지 개수 총합에 주의하세요.\n",
    "    # 가위 : 0, 바위 : 1, 보 : 2\n",
    "    img_size=112\n",
    "    color=3\n",
    "    #이미지 데이터와 라벨(가위 : 0, 바위 : 1, 보 : 2) 데이터를 담을 행렬(matrix) 영역을 생성합니다.\n",
    "    imgs=np.zeros(number_of_data*img_size*img_size*color,dtype=np.int32).reshape(number_of_data,img_size,img_size,color)\n",
    "    labels=np.zeros(number_of_data,dtype=np.int32)\n",
    "\n",
    "    idx=0\n",
    "    for file in glob.iglob(img_path+'/scissor/*.jpg'):\n",
    "        img = np.array(Image.open(file),dtype=np.int32)\n",
    "        imgs[idx,:,:,:]=img    # 데이터 영역에 이미지 행렬을 복사\n",
    "        labels[idx]=0   # 가위 : 0\n",
    "        idx=idx+1\n",
    "\n",
    "    for file in glob.iglob(img_path+'/rock/*.jpg'):\n",
    "        img = np.array(Image.open(file),dtype=np.int32)\n",
    "        imgs[idx,:,:,:]=img    # 데이터 영역에 이미지 행렬을 복사\n",
    "        labels[idx]=1   # 바위 : 1\n",
    "        idx=idx+1  \n",
    "    \n",
    "    for file in glob.iglob(img_path+'/paper/*.jpg'):\n",
    "        img = np.array(Image.open(file),dtype=np.int32)\n",
    "        imgs[idx,:,:,:]=img    # 데이터 영역에 이미지 행렬을 복사\n",
    "        labels[idx]=2   # 보 : 2\n",
    "        idx=idx+1\n",
    "        \n",
    "    print(\"학습데이터(X)의 이미지 개수는\", idx,\"입니다.\")\n",
    "    return imgs, labels\n",
    "\n",
    "image_dir_path = 'C://Users/Desk_Kang/Desktop/Aiffel/workplace/Iamgroww/rock_scissor_paper'\n",
    "\n",
    "\n",
    "(X, y)=load_data(image_dir_path)\n",
    "X_norm = X/255.0   # 입력은 0~1 사이의 값으로 정규화\\\n",
    "\n",
    "print(\"X shape: {}\".format(X.shape))\n",
    "print(\"y shape: {}\".format(y.shape))\n",
    "\n",
    "#흠... 매니폴드 하고싶은데\n",
    "#어짜피 테스트 데이터는 다른거에서 가져올 예정"
   ]
  },
  {
   "cell_type": "code",
   "execution_count": 22,
   "id": "d6388770",
   "metadata": {},
   "outputs": [
    {
     "name": "stdout",
     "output_type": "stream",
     "text": [
      "라벨:  0\n"
     ]
    },
    {
     "data": {
      "image/png": "[encoded data removed]",
      "text/plain": [
       "<Figure size 640x480 with 1 Axes>"
      ]
     },
     "metadata": {},
     "output_type": "display_data"
    }
   ],
   "source": [
    "import matplotlib.pyplot as plt\n",
    "plt.imshow(X[112])\n",
    "print('라벨: ', y[112])\n",
    "\n",
    "#111번째 이미지와 라벨링 표현"
   ]
  },
  {
   "cell_type": "code",
   "execution_count": 23,
   "id": "e437f727",
   "metadata": {},
   "outputs": [],
   "source": [
    "import tensorflow as tf\n",
    "from tensorflow import keras\n",
    "import numpy as np\n",
    "from keras.layers import Dropout\n",
    "#라이브러리 불러오고"
   ]
  },
  {
   "cell_type": "code",
   "execution_count": 24,
   "id": "7209c14e",
   "metadata": {},
   "outputs": [],
   "source": [
    "#교차검증 데이터 분리\n",
    "#5개로 나누고\n",
    "n_fold = 5\n",
    "\n",
    "#랜덤 시드 설정\n",
    "#텐서에서 재현성 구현(공유시)\n",
    "seed = 0\n",
    "np.random.seed(seed)\n",
    "tf.compat.v1.set_random_seed(seed)\n",
    "\n",
    "accuracy=[]\n",
    "\n",
    "kfold = StratifiedKFold(n_splits=n_fold, shuffle=True, random_state=seed)"
   ]
  },
  {
   "cell_type": "code",
   "execution_count": 25,
   "id": "a700f241",
   "metadata": {},
   "outputs": [
    {
     "name": "stdout",
     "output_type": "stream",
     "text": [
      "Model: \"sequential_5\"\n",
      "_________________________________________________________________\n",
      " Layer (type)                Output Shape              Param #   \n",
      "=================================================================\n",
      " conv2d_10 (Conv2D)          (None, 110, 110, 32)      896       \n",
      "                                                                 \n",
      " average_pooling2d_10 (Avera  (None, 36, 36, 32)       0         \n",
      " gePooling2D)                                                    \n",
      "                                                                 \n",
      " conv2d_11 (Conv2D)          (None, 34, 34, 64)        18496     \n",
      "                                                                 \n",
      " average_pooling2d_11 (Avera  (None, 11, 11, 64)       0         \n",
      " gePooling2D)                                                    \n",
      "                                                                 \n",
      " flatten_5 (Flatten)         (None, 7744)              0         \n",
      "                                                                 \n",
      " dense_10 (Dense)            (None, 128)               991360    \n",
      "                                                                 \n",
      " dropout_5 (Dropout)         (None, 128)               0         \n",
      "                                                                 \n",
      " dense_11 (Dense)            (None, 3)                 387       \n",
      "                                                                 \n",
      "=================================================================\n",
      "Total params: 1,011,139\n",
      "Trainable params: 1,011,139\n",
      "Non-trainable params: 0\n",
      "_________________________________________________________________\n",
      "Epoch 1/7\n",
      "46/46 [==============================] - 5s 88ms/step - loss: 1.0781 - accuracy: 0.4285 - val_loss: 1.0354 - val_accuracy: 0.4645\n",
      "Epoch 2/7\n",
      "46/46 [==============================] - 4s 92ms/step - loss: 0.9378 - accuracy: 0.5640 - val_loss: 0.9028 - val_accuracy: 0.5137\n",
      "Epoch 3/7\n",
      "46/46 [==============================] - 4s 92ms/step - loss: 0.6994 - accuracy: 0.7009 - val_loss: 0.5527 - val_accuracy: 0.8279\n",
      "Epoch 4/7\n",
      "46/46 [==============================] - 4s 88ms/step - loss: 0.4487 - accuracy: 0.8323 - val_loss: 0.3295 - val_accuracy: 0.8907\n",
      "Epoch 5/7\n",
      "46/46 [==============================] - 4s 79ms/step - loss: 0.3262 - accuracy: 0.8802 - val_loss: 0.2717 - val_accuracy: 0.8962\n",
      "Epoch 6/7\n",
      "46/46 [==============================] - 4s 86ms/step - loss: 0.2240 - accuracy: 0.9261 - val_loss: 0.1587 - val_accuracy: 0.9590\n",
      "Epoch 7/7\n",
      "46/46 [==============================] - 4s 85ms/step - loss: 0.1714 - accuracy: 0.9446 - val_loss: 0.1893 - val_accuracy: 0.9372\n",
      "Model: \"sequential_6\"\n",
      "_________________________________________________________________\n",
      " Layer (type)                Output Shape              Param #   \n",
      "=================================================================\n",
      " conv2d_12 (Conv2D)          (None, 110, 110, 32)      896       \n",
      "                                                                 \n",
      " average_pooling2d_12 (Avera  (None, 36, 36, 32)       0         \n",
      " gePooling2D)                                                    \n",
      "                                                                 \n",
      " conv2d_13 (Conv2D)          (None, 34, 34, 64)        18496     \n",
      "                                                                 \n",
      " average_pooling2d_13 (Avera  (None, 11, 11, 64)       0         \n",
      " gePooling2D)                                                    \n",
      "                                                                 \n",
      " flatten_6 (Flatten)         (None, 7744)              0         \n",
      "                                                                 \n",
      " dense_12 (Dense)            (None, 128)               991360    \n",
      "                                                                 \n",
      " dropout_6 (Dropout)         (None, 128)               0         \n",
      "                                                                 \n",
      " dense_13 (Dense)            (None, 3)                 387       \n",
      "                                                                 \n",
      "=================================================================\n",
      "Total params: 1,011,139\n",
      "Trainable params: 1,011,139\n",
      "Non-trainable params: 0\n",
      "_________________________________________________________________\n",
      "Epoch 1/7\n",
      "46/46 [==============================] - 4s 87ms/step - loss: 1.1008 - accuracy: 0.3833 - val_loss: 1.0762 - val_accuracy: 0.3169\n",
      "Epoch 2/7\n",
      "46/46 [==============================] - 4s 87ms/step - loss: 1.0092 - accuracy: 0.5024 - val_loss: 0.8998 - val_accuracy: 0.5109\n",
      "Epoch 3/7\n",
      "46/46 [==============================] - 4s 82ms/step - loss: 0.8290 - accuracy: 0.6181 - val_loss: 0.6328 - val_accuracy: 0.7568\n",
      "Epoch 4/7\n",
      "46/46 [==============================] - 4s 91ms/step - loss: 0.5610 - accuracy: 0.7707 - val_loss: 0.4329 - val_accuracy: 0.8279\n",
      "Epoch 5/7\n",
      "46/46 [==============================] - 4s 89ms/step - loss: 0.4269 - accuracy: 0.8419 - val_loss: 0.3300 - val_accuracy: 0.8989\n",
      "Epoch 6/7\n",
      "46/46 [==============================] - 4s 85ms/step - loss: 0.2928 - accuracy: 0.8898 - val_loss: 0.2961 - val_accuracy: 0.8689\n",
      "Epoch 7/7\n",
      "46/46 [==============================] - 4s 85ms/step - loss: 0.2098 - accuracy: 0.9220 - val_loss: 0.2313 - val_accuracy: 0.9344\n",
      "Model: \"sequential_7\"\n",
      "_________________________________________________________________\n",
      " Layer (type)                Output Shape              Param #   \n",
      "=================================================================\n",
      " conv2d_14 (Conv2D)          (None, 110, 110, 32)      896       \n",
      "                                                                 \n",
      " average_pooling2d_14 (Avera  (None, 36, 36, 32)       0         \n",
      " gePooling2D)                                                    \n",
      "                                                                 \n",
      " conv2d_15 (Conv2D)          (None, 34, 34, 64)        18496     \n",
      "                                                                 \n",
      " average_pooling2d_15 (Avera  (None, 11, 11, 64)       0         \n",
      " gePooling2D)                                                    \n",
      "                                                                 \n",
      " flatten_7 (Flatten)         (None, 7744)              0         \n",
      "                                                                 \n",
      " dense_14 (Dense)            (None, 128)               991360    \n",
      "                                                                 \n",
      " dropout_7 (Dropout)         (None, 128)               0         \n",
      "                                                                 \n",
      " dense_15 (Dense)            (None, 3)                 387       \n",
      "                                                                 \n",
      "=================================================================\n",
      "Total params: 1,011,139\n",
      "Trainable params: 1,011,139\n",
      "Non-trainable params: 0\n",
      "_________________________________________________________________\n",
      "Epoch 1/7\n",
      "46/46 [==============================] - 5s 91ms/step - loss: 1.0993 - accuracy: 0.3694 - val_loss: 1.0516 - val_accuracy: 0.3863\n",
      "Epoch 2/7\n",
      "46/46 [==============================] - 4s 88ms/step - loss: 1.0061 - accuracy: 0.5157 - val_loss: 0.8815 - val_accuracy: 0.5945\n",
      "Epoch 3/7\n",
      "46/46 [==============================] - 3s 65ms/step - loss: 0.7679 - accuracy: 0.6532 - val_loss: 0.6651 - val_accuracy: 0.7260\n",
      "Epoch 4/7\n",
      "46/46 [==============================] - 3s 63ms/step - loss: 0.5274 - accuracy: 0.7886 - val_loss: 0.4119 - val_accuracy: 0.8411\n",
      "Epoch 5/7\n",
      "46/46 [==============================] - 4s 85ms/step - loss: 0.3779 - accuracy: 0.8584 - val_loss: 0.2547 - val_accuracy: 0.9315\n",
      "Epoch 6/7\n",
      "46/46 [==============================] - 3s 73ms/step - loss: 0.2548 - accuracy: 0.9090 - val_loss: 0.1843 - val_accuracy: 0.9562\n",
      "Epoch 7/7\n",
      "46/46 [==============================] - 3s 73ms/step - loss: 0.2067 - accuracy: 0.9282 - val_loss: 0.1531 - val_accuracy: 0.9781\n",
      "Model: \"sequential_8\"\n",
      "_________________________________________________________________\n",
      " Layer (type)                Output Shape              Param #   \n",
      "=================================================================\n",
      " conv2d_16 (Conv2D)          (None, 110, 110, 32)      896       \n",
      "                                                                 \n",
      " average_pooling2d_16 (Avera  (None, 36, 36, 32)       0         \n",
      " gePooling2D)                                                    \n",
      "                                                                 \n",
      " conv2d_17 (Conv2D)          (None, 34, 34, 64)        18496     \n",
      "                                                                 \n",
      " average_pooling2d_17 (Avera  (None, 11, 11, 64)       0         \n",
      " gePooling2D)                                                    \n",
      "                                                                 \n",
      " flatten_8 (Flatten)         (None, 7744)              0         \n",
      "                                                                 \n",
      " dense_16 (Dense)            (None, 128)               991360    \n",
      "                                                                 \n",
      " dropout_8 (Dropout)         (None, 128)               0         \n",
      "                                                                 \n",
      " dense_17 (Dense)            (None, 3)                 387       \n",
      "                                                                 \n",
      "=================================================================\n",
      "Total params: 1,011,139\n",
      "Trainable params: 1,011,139\n",
      "Non-trainable params: 0\n",
      "_________________________________________________________________\n",
      "Epoch 1/7\n",
      "46/46 [==============================] - 4s 79ms/step - loss: 1.0933 - accuracy: 0.3844 - val_loss: 1.0514 - val_accuracy: 0.4055\n",
      "Epoch 2/7\n",
      "46/46 [==============================] - 5s 112ms/step - loss: 0.9901 - accuracy: 0.5212 - val_loss: 0.9185 - val_accuracy: 0.5726\n",
      "Epoch 3/7\n",
      "46/46 [==============================] - 4s 85ms/step - loss: 0.7325 - accuracy: 0.6970 - val_loss: 0.5988 - val_accuracy: 0.7589\n",
      "Epoch 4/7\n",
      "46/46 [==============================] - 5s 101ms/step - loss: 0.4966 - accuracy: 0.7880 - val_loss: 0.3481 - val_accuracy: 0.8877\n",
      "Epoch 5/7\n",
      "46/46 [==============================] - 4s 82ms/step - loss: 0.3566 - accuracy: 0.8598 - val_loss: 0.2877 - val_accuracy: 0.9342\n",
      "Epoch 6/7\n",
      "46/46 [==============================] - 5s 99ms/step - loss: 0.2449 - accuracy: 0.9118 - val_loss: 0.1646 - val_accuracy: 0.9836\n",
      "Epoch 7/7\n",
      "46/46 [==============================] - 4s 84ms/step - loss: 0.2024 - accuracy: 0.9275 - val_loss: 0.1551 - val_accuracy: 0.9616\n",
      "Model: \"sequential_9\"\n",
      "_________________________________________________________________\n",
      " Layer (type)                Output Shape              Param #   \n",
      "=================================================================\n",
      " conv2d_18 (Conv2D)          (None, 110, 110, 32)      896       \n",
      "                                                                 \n",
      " average_pooling2d_18 (Avera  (None, 36, 36, 32)       0         \n",
      " gePooling2D)                                                    \n",
      "                                                                 \n",
      " conv2d_19 (Conv2D)          (None, 34, 34, 64)        18496     \n",
      "                                                                 \n",
      " average_pooling2d_19 (Avera  (None, 11, 11, 64)       0         \n",
      " gePooling2D)                                                    \n",
      "                                                                 \n",
      " flatten_9 (Flatten)         (None, 7744)              0         \n",
      "                                                                 \n",
      " dense_18 (Dense)            (None, 128)               991360    \n",
      "                                                                 \n",
      " dropout_9 (Dropout)         (None, 128)               0         \n",
      "                                                                 \n",
      " dense_19 (Dense)            (None, 3)                 387       \n",
      "                                                                 \n",
      "=================================================================\n",
      "Total params: 1,011,139\n",
      "Trainable params: 1,011,139\n",
      "Non-trainable params: 0\n",
      "_________________________________________________________________\n",
      "Epoch 1/7\n",
      "46/46 [==============================] - 5s 88ms/step - loss: 1.0846 - accuracy: 0.3871 - val_loss: 1.0356 - val_accuracy: 0.4904\n",
      "Epoch 2/7\n",
      "46/46 [==============================] - 4s 82ms/step - loss: 0.8993 - accuracy: 0.5800 - val_loss: 0.7493 - val_accuracy: 0.7233\n",
      "Epoch 3/7\n",
      "46/46 [==============================] - 4s 85ms/step - loss: 0.6252 - accuracy: 0.7469 - val_loss: 0.4813 - val_accuracy: 0.8055\n",
      "Epoch 4/7\n",
      "46/46 [==============================] - 4s 82ms/step - loss: 0.4270 - accuracy: 0.8304 - val_loss: 0.4092 - val_accuracy: 0.8000\n",
      "Epoch 5/7\n",
      "46/46 [==============================] - 4s 88ms/step - loss: 0.3221 - accuracy: 0.8735 - val_loss: 0.2554 - val_accuracy: 0.9014\n",
      "Epoch 6/7\n",
      "46/46 [==============================] - 4s 87ms/step - loss: 0.2546 - accuracy: 0.9029 - val_loss: 0.2268 - val_accuracy: 0.8904\n",
      "Epoch 7/7\n",
      "46/46 [==============================] - 4s 91ms/step - loss: 0.1922 - accuracy: 0.9330 - val_loss: 0.1682 - val_accuracy: 0.9507\n"
     ]
    }
   ],
   "source": [
    "# model을 직접 만들어 보세요.\n",
    "# Hint! model의 입력/출력부에 특히 유의해 주세요. 가위바위보 데이터셋은 MNIST 데이터셋과 어떤 점이 달라졌나요?\n",
    "\n",
    "for train, test in kfold.split(X,y):\n",
    "    model=keras.models.Sequential()\n",
    "    model.add(keras.layers.Conv2D(32, (3,3), activation='relu', input_shape=(112,112,3)))\n",
    "    model.add(keras.layers.AveragePooling2D(3,3))\n",
    "    model.add(keras.layers.Conv2D(64, (3,3), activation='relu'))\n",
    "    model.add(keras.layers.AveragePooling2D(3,3))\n",
    "    model.add(keras.layers.Flatten())\n",
    "    model.add(keras.layers.Dense(128, activation='relu'))\n",
    "    model.add(Dropout(0.3))\n",
    "    model.add(keras.layers.Dense(3, activation='softmax'))\n",
    "\n",
    "    model.summary()\n",
    "\n",
    "    # model을 학습시키는 코드를 직접 작성해 보세요.\n",
    "    # Hint! model.compile()과 model.fit()을 사용해 봅시다.\n",
    "    model.compile(optimizer='adam',loss='sparse_categorical_crossentropy',metrics=['accuracy'])\n",
    "\n",
    "    #모델 학습\n",
    "    history = model.fit(X_norm[train], y[train], epochs=7, validation_data= (X_norm[test], y[test]))\n",
    "    accuracy.append(history.history['val_accuracy'])\n",
    "    \n",
    "    \n"
   ]
  },
  {
   "cell_type": "code",
   "execution_count": 26,
   "id": "0eb5fcb5",
   "metadata": {},
   "outputs": [
    {
     "name": "stdout",
     "output_type": "stream",
     "text": [
      "350  images to be resized.\n"
     ]
    },
    {
     "name": "stderr",
     "output_type": "stream",
     "text": [
      "C:\\Users\\Desk_Kang\\AppData\\Local\\Temp\\ipykernel_6916\\581946024.py:10: DeprecationWarning: ANTIALIAS is deprecated and will be removed in Pillow 10 (2023-07-01). Use LANCZOS or Resampling.LANCZOS instead.\n",
      "  new_img=old_img.resize(target_size,Image.ANTIALIAS)\n"
     ]
    },
    {
     "name": "stdout",
     "output_type": "stream",
     "text": [
      "350  images resized.\n",
      "380  images to be resized.\n",
      "380  images resized.\n",
      "351  images to be resized.\n",
      "351  images resized.\n"
     ]
    }
   ],
   "source": [
    "# x_test, y_test를 만드는 방법은 x_train, y_train을 만드는 방법과 아주 유사합니다.\n",
    "#테스트 사진 리사이즈\n",
    "\n",
    "image_dir_path = 'C://Users/Desk_Kang/Desktop/Aiffel/workplace/Iamgroww/rock_scissor_paper/test/paper'\n",
    "resize_images(image_dir_path)\n",
    "\n",
    "image_dir_path = 'C://Users/Desk_Kang/Desktop/Aiffel/workplace/Iamgroww/rock_scissor_paper/test/rock'\n",
    "resize_images(image_dir_path)\n",
    "\n",
    "image_dir_path = 'C://Users/Desk_Kang/Desktop/Aiffel/workplace/Iamgroww/rock_scissor_paper/test/scissor'\n",
    "resize_images(image_dir_path)\n"
   ]
  },
  {
   "cell_type": "code",
   "execution_count": 27,
   "id": "369ff0e3",
   "metadata": {},
   "outputs": [
    {
     "name": "stdout",
     "output_type": "stream",
     "text": [
      "학습데이터(x_train)의 이미지 개수는 1081 입니다.\n",
      "x_test shape: (1081, 112, 112, 3)\n",
      "y_test shape: (1081,)\n"
     ]
    }
   ],
   "source": [
    "#테스트 데이터셋 불러오기\n",
    "\n",
    "def load_data_t(img_path, number_of_data=1081):  # 가위바위보 이미지 개수 총합에 주의하세요.\n",
    "    # 가위 : 0, 바위 : 1, 보 : 2\n",
    "    img_size=112\n",
    "    color=3\n",
    "    #이미지 데이터와 라벨(가위 : 0, 바위 : 1, 보 : 2) 데이터를 담을 행렬(matrix) 영역을 생성합니다.\n",
    "    imgs=np.zeros(number_of_data*img_size*img_size*color,dtype=np.int32).reshape(number_of_data,img_size,img_size,color)\n",
    "    labels=np.zeros(number_of_data,dtype=np.int32)\n",
    "\n",
    "    idx=0\n",
    "    for file in glob.iglob(img_path+'/scissor/*.jpg'):\n",
    "        img = np.array(Image.open(file),dtype=np.int32)\n",
    "        imgs[idx,:,:,:]=img    # 데이터 영역에 이미지 행렬을 복사\n",
    "        labels[idx]=0   # 가위 : 0\n",
    "        idx=idx+1\n",
    "\n",
    "    for file in glob.iglob(img_path+'/rock/*.jpg'):\n",
    "        img = np.array(Image.open(file),dtype=np.int32)\n",
    "        imgs[idx,:,:,:]=img    # 데이터 영역에 이미지 행렬을 복사\n",
    "        labels[idx]=1   # 바위 : 1\n",
    "        idx=idx+1  \n",
    "    \n",
    "    for file in glob.iglob(img_path+'/paper/*.jpg'):\n",
    "        img = np.array(Image.open(file),dtype=np.int32)\n",
    "        imgs[idx,:,:,:]=img    # 데이터 영역에 이미지 행렬을 복사\n",
    "        labels[idx]=2   # 보 : 2\n",
    "        idx=idx+1\n",
    "        \n",
    "    print(\"학습데이터(x_train)의 이미지 개수는\", idx,\"입니다.\")\n",
    "    return imgs, labels\n",
    "\n",
    "image_dir_path = 'C://Users/Desk_Kang/Desktop/Aiffel/workplace/Iamgroww/rock_scissor_paper/test'\n",
    "(x_test, y_test)=load_data_t(image_dir_path)\n",
    "x_test_norm = x_test/255.0   # 입력은 0~1 사이의 값으로 정규화\n",
    "\n",
    "print(\"x_test shape: {}\".format(x_test.shape))\n",
    "print(\"y_test shape: {}\".format(y_test.shape))"
   ]
  },
  {
   "cell_type": "code",
   "execution_count": 28,
   "id": "8072f4b6",
   "metadata": {},
   "outputs": [
    {
     "name": "stdout",
     "output_type": "stream",
     "text": [
      "34/34 - 1s - loss: 4.7370 - accuracy: 0.4422 - 784ms/epoch - 23ms/step\n",
      "test_loss: 4.737013339996338\n",
      "test_accuracy: 0.44218316674232483\n"
     ]
    }
   ],
   "source": [
    "\n",
    "# Hint! model.evaluate()을 사용해 봅시다.\n",
    "test_loss, test_accuracy = model.evaluate(x_test_norm,y_test, verbose=2)\n",
    "print(f\"test_loss: {test_loss}\")\n",
    "print(f\"test_accuracy: {test_accuracy}\")"
   ]
  },
  {
   "cell_type": "code",
   "execution_count": null,
   "id": "30be7fd2",
   "metadata": {},
   "outputs": [],
   "source": []
  }
 ],
 "metadata": {
  "kernelspec": {
   "display_name": "Python 3 (ipykernel)",
   "language": "python",
   "name": "python3"
  },
  "language_info": {
   "codemirror_mode": {
    "name": "ipython",
    "version": 3
   },
   "file_extension": ".py",
   "mimetype": "text/x-python",
   "name": "python",
   "nbconvert_exporter": "python",
   "pygments_lexer": "ipython3",
   "version": "3.10.13"
  }
 },
 "nbformat": 4,
 "nbformat_minor": 5
}
