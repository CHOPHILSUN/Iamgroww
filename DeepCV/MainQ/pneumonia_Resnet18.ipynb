{
 "cells": [
  {
   "cell_type": "code",
   "execution_count": 1,
   "metadata": {},
   "outputs": [],
   "source": [
    "import os, re\n",
    "import random, math\n",
    "import numpy as np\n",
    "import tensorflow as tf\n",
    "import matplotlib.pyplot as plt\n",
    "import warnings \n",
    "warnings.filterwarnings(action='ignore')\n",
    "\n",
    "#패키지 불러오기"
   ]
  },
  {
   "cell_type": "code",
   "execution_count": 2,
   "metadata": {},
   "outputs": [
    {
     "name": "stdout",
     "output_type": "stream",
     "text": [
      "C:/Users/Desk_Kang/Desktop/Aiffel/workplace/Iamgroww/DeepCV\n"
     ]
    }
   ],
   "source": [
    "# 데이터 로드할 때 빠르게 로드할 수 있도록하는 설정 변수\n",
    "AUTOTUNE = tf.data.experimental.AUTOTUNE\n",
    "# X-RAY 이미지 사이즈 변수\n",
    "IMAGE_SIZE = [210, 210]\n",
    "\n",
    "# 데이터 경로 변수\n",
    "ROOT_PATH = 'C:/Users/Desk_Kang/Desktop/Aiffel/workplace/Iamgroww/DeepCV'\n",
    "TRAIN_PATH = ROOT_PATH + '/chest_xray/train/*/*' # *은 모든 디렉토리와 파일을 의미합니다.\n",
    "VAL_PATH = ROOT_PATH + '/chest_xray/val/*/*'\n",
    "TEST_PATH = ROOT_PATH + '/chest_xray/test/*/*'\n",
    "\n",
    "# 프로젝트를 진행할 때 아래 두 변수를 변경해보세요\n",
    "BATCH_SIZE = 25\n",
    "EPOCHS = 25\n",
    "\n",
    "print(ROOT_PATH)"
   ]
  },
  {
   "cell_type": "code",
   "execution_count": 3,
   "metadata": {},
   "outputs": [
    {
     "name": "stdout",
     "output_type": "stream",
     "text": [
      "5232\n",
      "624\n",
      "16\n"
     ]
    }
   ],
   "source": [
    "train_filenames = tf.io.gfile.glob(TRAIN_PATH)\n",
    "test_filenames = tf.io.gfile.glob(TEST_PATH)\n",
    "val_filenames = tf.io.gfile.glob(VAL_PATH)\n",
    "\n",
    "print(len(train_filenames))\n",
    "print(len(test_filenames))\n",
    "print(len(val_filenames))"
   ]
  },
  {
   "cell_type": "code",
   "execution_count": 4,
   "metadata": {},
   "outputs": [
    {
     "name": "stdout",
     "output_type": "stream",
     "text": [
      "3673\n",
      "1575\n"
     ]
    }
   ],
   "source": [
    "# train 데이터와 validation 데이터를 모두 filenames에 담습니다\n",
    "filenames = tf.io.gfile.glob(TRAIN_PATH)\n",
    "filenames.extend(tf.io.gfile.glob(VAL_PATH))\n",
    "\n",
    "# 모아진 filenames를 ???로 나눕니다\n",
    "train_size = math.floor(len(filenames)*0.7)\n",
    "random.seed(750)\n",
    "random.shuffle(filenames)\n",
    "train_filenames = filenames[:train_size]\n",
    "val_filenames = filenames[train_size:]\n",
    "\n",
    "print(len(train_filenames))\n",
    "print(len(val_filenames))"
   ]
  },
  {
   "cell_type": "code",
   "execution_count": 5,
   "metadata": {},
   "outputs": [
    {
     "name": "stdout",
     "output_type": "stream",
     "text": [
      "Normal image path\n",
      "C:\\Users\\Desk_Kang\\Desktop\\Aiffel\\workplace\\Iamgroww\\DeepCV\\chest_xray\\train\\PNEUMONIA\\person1079_virus_1789.jpeg\n",
      "Pneumonia image path\n",
      "C:\\Users\\Desk_Kang\\Desktop\\Aiffel\\workplace\\Iamgroww\\DeepCV\\chest_xray\\train\\PNEUMONIA\\person730_virus_1351.jpeg\n"
     ]
    }
   ],
   "source": [
    "print(f'Normal image path\\n{filenames[0]}')\n",
    "print(f'Pneumonia image path\\n{filenames[2000]}')\n",
    "#정상 이미지 와 폐렴 이미지 경로 확인"
   ]
  },
  {
   "cell_type": "code",
   "execution_count": 6,
   "metadata": {},
   "outputs": [
    {
     "name": "stdout",
     "output_type": "stream",
     "text": [
      "Normal images count in training set: 951\n",
      "Pneumonia images count in training set: 2722\n"
     ]
    }
   ],
   "source": [
    "COUNT_NORMAL = len([filename for filename in train_filenames if \"NORMAL\" in filename])\n",
    "print(f\"Normal images count in training set: {COUNT_NORMAL}\")\n",
    "\n",
    "\n",
    "COUNT_PNEUMONIA = len([filename for filename in train_filenames if \"PNEUMONIA\" in filename])\n",
    "print(f\"Pneumonia images count in training set: {COUNT_PNEUMONIA}\")"
   ]
  },
  {
   "cell_type": "code",
   "execution_count": 7,
   "metadata": {},
   "outputs": [],
   "source": [
    "train_list_ds = tf.data.Dataset.from_tensor_slices(train_filenames)\n",
    "val_list_ds = tf.data.Dataset.from_tensor_slices(val_filenames)\n",
    "#mini-batch를 위한 작업"
   ]
  },
  {
   "cell_type": "code",
   "execution_count": 8,
   "metadata": {},
   "outputs": [
    {
     "name": "stdout",
     "output_type": "stream",
     "text": [
      "Training images count: 3673\n",
      "Validating images count: 1575\n"
     ]
    }
   ],
   "source": [
    "TRAIN_IMG_COUNT = tf.data.experimental.cardinality(train_list_ds).numpy()\n",
    "print(f\"Training images count: {TRAIN_IMG_COUNT}\")\n",
    "\n",
    "VAL_IMG_COUNT = tf.data.experimental.cardinality(val_list_ds).numpy()\n",
    "print(f\"Validating images count: {VAL_IMG_COUNT}\")"
   ]
  },
  {
   "cell_type": "code",
   "execution_count": 9,
   "metadata": {},
   "outputs": [],
   "source": [
    "# 파일 경로의 끝에서 두번째 부분을 확인하면 양성과 음성을 구분할 수 있습니다\n",
    "def get_label(file_path):\n",
    "    parts = tf.strings.split(file_path, os.path.sep)\n",
    "    return parts[-2] == \"PNEUMONIA\"   # 폐렴이면 양성(True), 노말이면 음성(False)"
   ]
  },
  {
   "cell_type": "code",
   "execution_count": 10,
   "metadata": {},
   "outputs": [],
   "source": [
    "#이미지 데이터는 사이즈가 제각각일 가능성이 높아 사이즈를 통일시키기 위함\n",
    "# 이미지를 알맞은 형식으로 바꿉니다.\n",
    "def decode_img(img):\n",
    "    img = tf.image.decode_jpeg(img, channels=3) # 이미지를 uint8 tensor로 수정\n",
    "    img = tf.image.convert_image_dtype(img, tf.float32) # float32 타입으로 수정\n",
    "    img = tf.image.resize(img, IMAGE_SIZE) # 이미지 사이즈를 IMAGE_SIZE로 수정\n",
    "    return img\n",
    "\n",
    "# 이미지 파일의 경로를 입력하면 이미지와 라벨을 읽어옵니다.\n",
    "def process_path(file_path):\n",
    "    label = get_label(file_path) # 라벨 검출\n",
    "    img = tf.io.read_file(file_path) # 이미지 읽기\n",
    "    img = decode_img(img) # 이미지를 알맞은 형식으로 수정\n",
    "    return img, label"
   ]
  },
  {
   "cell_type": "code",
   "execution_count": 11,
   "metadata": {},
   "outputs": [],
   "source": [
    "#train/val 데이터 셋\n",
    "train_ds = train_list_ds.map(process_path, num_parallel_calls=AUTOTUNE)\n",
    "val_ds = val_list_ds.map(process_path, num_parallel_calls=AUTOTUNE)"
   ]
  },
  {
   "cell_type": "code",
   "execution_count": 12,
   "metadata": {},
   "outputs": [
    {
     "name": "stdout",
     "output_type": "stream",
     "text": [
      "Image shape:  (210, 210, 3)\n",
      "Label:  True\n"
     ]
    }
   ],
   "source": [
    "#이미지 리사이즈 확인\n",
    "for image, label in train_ds.take(1):\n",
    "    print(\"Image shape: \", image.numpy().shape)\n",
    "    print(\"Label: \", label.numpy())"
   ]
  },
  {
   "cell_type": "code",
   "execution_count": 13,
   "metadata": {},
   "outputs": [
    {
     "name": "stdout",
     "output_type": "stream",
     "text": [
      "624\n"
     ]
    }
   ],
   "source": [
    "#test 데이터 셋 확인\n",
    "test_list_ds = tf.data.Dataset.list_files(TEST_PATH)\n",
    "TEST_IMAGE_COUNT = tf.data.experimental.cardinality(test_list_ds).numpy()\n",
    "test_ds = test_list_ds.map(process_path, num_parallel_calls=AUTOTUNE)\n",
    "test_ds = test_ds.batch(BATCH_SIZE)\n",
    "\n",
    "print(TEST_IMAGE_COUNT)"
   ]
  },
  {
   "cell_type": "code",
   "execution_count": 14,
   "metadata": {},
   "outputs": [],
   "source": [
    "def augment(image,label):\n",
    "    image = tf.image.random_flip_left_right(image)  # 랜덤하게 좌우를 반전합니다.\n",
    "    return image,label"
   ]
  },
  {
   "cell_type": "code",
   "execution_count": 15,
   "metadata": {},
   "outputs": [],
   "source": [
    "#데이터 파이프라인\n",
    "#shuffle 무작위 요소 선택\n",
    "#repeat 여러번 데이터셋을 사용할 수 있게 만듬\n",
    "#batch 배치사이즈에 맞게 데이터 나눔\n",
    "\n",
    "def prepare_for_training(ds, shuffle_buffer_size=8500):\n",
    "    # augment 적용 부분이 배치처리 함수에 추가되었습니다.\n",
    "    ds = ds.map(\n",
    "            augment,       # augment 함수 적용\n",
    "            num_parallel_calls=2\n",
    "        )\n",
    "    ds = ds.shuffle(buffer_size=shuffle_buffer_size)\n",
    "    ds = ds.repeat()\n",
    "    ds = ds.batch(BATCH_SIZE)\n",
    "    ds = ds.prefetch(buffer_size=AUTOTUNE)\n",
    "    return ds\n",
    "\n",
    "train_ds = prepare_for_training(train_ds)\n",
    "val_ds = prepare_for_training(val_ds)"
   ]
  },
  {
   "cell_type": "code",
   "execution_count": 16,
   "metadata": {},
   "outputs": [],
   "source": [
    "# # 이미지 배치를 입력하면 여러장의 이미지를 보여줍니다.\n",
    "# def show_batch(image_batch, label_batch):\n",
    "#     plt.figure(figsize=(10,10))\n",
    "#     for n in range(BATCH_SIZE):\n",
    "#         ax = plt.subplot(4,math.ceil(BATCH_SIZE/4),n+1)\n",
    "#         plt.imshow(image_batch[n])\n",
    "#         if label_batch[n]:\n",
    "#             plt.title(\"PNEUMONIA\")\n",
    "#         else:\n",
    "#             plt.title(\"NORMAL\")\n",
    "#         plt.axis(\"off\")\n",
    "\n",
    "\n",
    "# image_batch, label_batch = next(iter(train_ds))\n",
    "# show_batch(image_batch.numpy(), label_batch.numpy())"
   ]
  },
  {
   "cell_type": "code",
   "execution_count": 17,
   "metadata": {},
   "outputs": [],
   "source": [
    "#residual_block\n",
    "\n",
    "def residual_block(input_layer, n_filters, stride=1):\n",
    "    merge_input = input_layer\n",
    "\n",
    "# if문에서 채널 사이즈가 동일한지 확인하고, 그렇지 않다면 1x1 conv 통해서 채널 사이즈 맞추기\n",
    "    if input_layer.shape[-1] != n_filters:\n",
    "        # n_filter로 채널 사이즈를 맞춰 준다.\n",
    "        merge_input = tf.keras.layers.Conv2D(n_filters, (1,1), padding='same')(input_layer)\n",
    "    \n",
    "    # Conv2D layer\n",
    "    conv1 = tf.keras.layers.Conv2D(n_filters, (3,3), padding='same')(input_layer)\n",
    "\t\n",
    "    # Batch Normalization\n",
    "    batch1 = tf.keras.layers.BatchNormalization()(conv1)\n",
    "\n",
    "    # ReLU\n",
    "    x = tf.keras.layers.Activation('relu')(batch1)\n",
    "\n",
    "    # Conv2D layer\n",
    "    conv2 = tf.keras.layers.Conv2D(n_filters, (3,3), padding='same')(x)\n",
    "\n",
    "    # Batch Normalization\n",
    "    batch2 = tf.keras.layers.BatchNormalization()(conv2)\n",
    "        \n",
    "    # Add를 통해서 skip connection을 구현하는 부분\n",
    "    out_layer = tf.keras.layers.Add()([batch2, merge_input])\n",
    "    out_layer = tf.keras.layers.Activation('relu')(out_layer)\n",
    " \n",
    "    return out_layer"
   ]
  },
  {
   "cell_type": "code",
   "execution_count": 18,
   "metadata": {},
   "outputs": [],
   "source": [
    "#Resnet18 모델\n",
    "\n",
    "def Resnet18():\n",
    "    input_layer = tf.keras.Input(shape=(IMAGE_SIZE[0], IMAGE_SIZE[1],3))\n",
    "\n",
    "    # Conv2D layer\n",
    "    conv0 = tf.keras.layers.Conv2D(64, (3,3), strides=2, padding='same')(input_layer)\n",
    "\n",
    "    # Batch Normalization\n",
    "    conv1 = tf.keras.layers.BatchNormalization()(conv0)\n",
    "\n",
    "    # ReLU\n",
    "    x = tf.keras.layers.Activation('relu')(conv1)\n",
    "\n",
    "    # MaxPooling\n",
    "    x = tf.keras.layers.MaxPooling2D((3,3), strides=2, padding='same')(x)\n",
    "\n",
    "    num_blocks = [2, 2, 2, 2]\n",
    "    filters = [64, 128, 256, 512]\n",
    "\n",
    "    for stage in range(4):\n",
    "        for _ in range(num_blocks[stage]):\n",
    "            x = residual_block(x, filters[stage], stride=2 if stage > 0 and _ == 0 else 1 )\n",
    "            # 첫번째 residual block에서 스트라이드 2 주고 그 이후는 stride 1 주기\n",
    "\n",
    "    # GlobalAveragePooling2D\n",
    "    x = tf.keras.layers.AveragePooling2D((7,7))(x)\n",
    "\n",
    "    x = tf.keras.layers.Flatten()(x)\n",
    "\n",
    "    # Dense\n",
    "    x = tf.keras.layers.Dense(1000, activation='relu')(x)\n",
    "\n",
    "    # Dense2\n",
    "    x = tf.keras.layers.Dense(1000, activation='relu')(x)\n",
    "\n",
    "    # Output\n",
    "    x = tf.keras.layers.Dense(1, activation='sigmoid')(x)\n",
    "\n",
    "    model = tf.keras.Model(inputs=input_layer, outputs=x)\n",
    "\n",
    "    return model\n",
    "\n"
   ]
  },
  {
   "cell_type": "code",
   "execution_count": 19,
   "metadata": {},
   "outputs": [
    {
     "name": "stdout",
     "output_type": "stream",
     "text": [
      "Weight for NORMAL: 1.93\n",
      "Weight for PNEUMONIA: 0.67\n"
     ]
    }
   ],
   "source": [
    "#Normal 과 Pneumonia 데이터 불균형(normal 현저히 적음) 해소를 위함\n",
    "#특정 클래스에 가중치를 다르게 부여\n",
    "#전체 데이터 건수에 반비례하도록 설정\n",
    "weight_for_0 = (1 / COUNT_NORMAL)*(TRAIN_IMG_COUNT)/2.0 \n",
    "weight_for_1 = (1 / COUNT_PNEUMONIA)*(TRAIN_IMG_COUNT)/2.0\n",
    "\n",
    "class_weight = {0: weight_for_0, 1: weight_for_1}\n",
    "\n",
    "print('Weight for NORMAL: {:.2f}'.format(weight_for_0))\n",
    "print('Weight for PNEUMONIA: {:.2f}'.format(weight_for_1))\n"
   ]
  },
  {
   "cell_type": "code",
   "execution_count": 20,
   "metadata": {},
   "outputs": [],
   "source": [
    "model = Resnet18()"
   ]
  },
  {
   "cell_type": "code",
   "execution_count": 21,
   "metadata": {},
   "outputs": [],
   "source": [
    "#라벨이 2개라 loss = binary_crossentropy\n",
    "#optimizer = adam\n",
    "#metircs = accuracy, precision, recall\n",
    "\n",
    "\n",
    "METRICS = [\n",
    "    'accuracy',\n",
    "    tf.keras.metrics.Precision(name='precision'),\n",
    "    tf.keras.metrics.Recall(name='recall')\n",
    "]\n",
    "\n",
    "model.compile(\n",
    "    optimizer='adam',\n",
    "    loss='binary_crossentropy',\n",
    "    metrics=METRICS\n",
    ")"
   ]
  },
  {
   "cell_type": "code",
   "execution_count": 22,
   "metadata": {},
   "outputs": [
    {
     "name": "stdout",
     "output_type": "stream",
     "text": [
      "Model: \"model\"\n",
      "__________________________________________________________________________________________________\n",
      " Layer (type)                   Output Shape         Param #     Connected to                     \n",
      "==================================================================================================\n",
      " input_1 (InputLayer)           [(None, 210, 210, 3  0           []                               \n",
      "                                )]                                                                \n",
      "                                                                                                  \n",
      " conv2d (Conv2D)                (None, 105, 105, 64  1792        ['input_1[0][0]']                \n",
      "                                )                                                                 \n",
      "                                                                                                  \n",
      " batch_normalization (BatchNorm  (None, 105, 105, 64  256        ['conv2d[0][0]']                 \n",
      " alization)                     )                                                                 \n",
      "                                                                                                  \n",
      " activation (Activation)        (None, 105, 105, 64  0           ['batch_normalization[0][0]']    \n",
      "                                )                                                                 \n",
      "                                                                                                  \n",
      " max_pooling2d (MaxPooling2D)   (None, 53, 53, 64)   0           ['activation[0][0]']             \n",
      "                                                                                                  \n",
      " conv2d_1 (Conv2D)              (None, 53, 53, 64)   36928       ['max_pooling2d[0][0]']          \n",
      "                                                                                                  \n",
      " batch_normalization_1 (BatchNo  (None, 53, 53, 64)  256         ['conv2d_1[0][0]']               \n",
      " rmalization)                                                                                     \n",
      "                                                                                                  \n",
      " activation_1 (Activation)      (None, 53, 53, 64)   0           ['batch_normalization_1[0][0]']  \n",
      "                                                                                                  \n",
      " conv2d_2 (Conv2D)              (None, 53, 53, 64)   36928       ['activation_1[0][0]']           \n",
      "                                                                                                  \n",
      " batch_normalization_2 (BatchNo  (None, 53, 53, 64)  256         ['conv2d_2[0][0]']               \n",
      " rmalization)                                                                                     \n",
      "                                                                                                  \n",
      " add (Add)                      (None, 53, 53, 64)   0           ['batch_normalization_2[0][0]',  \n",
      "                                                                  'max_pooling2d[0][0]']          \n",
      "                                                                                                  \n",
      " activation_2 (Activation)      (None, 53, 53, 64)   0           ['add[0][0]']                    \n",
      "                                                                                                  \n",
      " conv2d_3 (Conv2D)              (None, 53, 53, 64)   36928       ['activation_2[0][0]']           \n",
      "                                                                                                  \n",
      " batch_normalization_3 (BatchNo  (None, 53, 53, 64)  256         ['conv2d_3[0][0]']               \n",
      " rmalization)                                                                                     \n",
      "                                                                                                  \n",
      " activation_3 (Activation)      (None, 53, 53, 64)   0           ['batch_normalization_3[0][0]']  \n",
      "                                                                                                  \n",
      " conv2d_4 (Conv2D)              (None, 53, 53, 64)   36928       ['activation_3[0][0]']           \n",
      "                                                                                                  \n",
      " batch_normalization_4 (BatchNo  (None, 53, 53, 64)  256         ['conv2d_4[0][0]']               \n",
      " rmalization)                                                                                     \n",
      "                                                                                                  \n",
      " add_1 (Add)                    (None, 53, 53, 64)   0           ['batch_normalization_4[0][0]',  \n",
      "                                                                  'activation_2[0][0]']           \n",
      "                                                                                                  \n",
      " activation_4 (Activation)      (None, 53, 53, 64)   0           ['add_1[0][0]']                  \n",
      "                                                                                                  \n",
      " conv2d_6 (Conv2D)              (None, 53, 53, 128)  73856       ['activation_4[0][0]']           \n",
      "                                                                                                  \n",
      " batch_normalization_5 (BatchNo  (None, 53, 53, 128)  512        ['conv2d_6[0][0]']               \n",
      " rmalization)                                                                                     \n",
      "                                                                                                  \n",
      " activation_5 (Activation)      (None, 53, 53, 128)  0           ['batch_normalization_5[0][0]']  \n",
      "                                                                                                  \n",
      " conv2d_7 (Conv2D)              (None, 53, 53, 128)  147584      ['activation_5[0][0]']           \n",
      "                                                                                                  \n",
      " batch_normalization_6 (BatchNo  (None, 53, 53, 128)  512        ['conv2d_7[0][0]']               \n",
      " rmalization)                                                                                     \n",
      "                                                                                                  \n",
      " conv2d_5 (Conv2D)              (None, 53, 53, 128)  8320        ['activation_4[0][0]']           \n",
      "                                                                                                  \n",
      " add_2 (Add)                    (None, 53, 53, 128)  0           ['batch_normalization_6[0][0]',  \n",
      "                                                                  'conv2d_5[0][0]']               \n",
      "                                                                                                  \n",
      " activation_6 (Activation)      (None, 53, 53, 128)  0           ['add_2[0][0]']                  \n",
      "                                                                                                  \n",
      " conv2d_8 (Conv2D)              (None, 53, 53, 128)  147584      ['activation_6[0][0]']           \n",
      "                                                                                                  \n",
      " batch_normalization_7 (BatchNo  (None, 53, 53, 128)  512        ['conv2d_8[0][0]']               \n",
      " rmalization)                                                                                     \n",
      "                                                                                                  \n",
      " activation_7 (Activation)      (None, 53, 53, 128)  0           ['batch_normalization_7[0][0]']  \n",
      "                                                                                                  \n",
      " conv2d_9 (Conv2D)              (None, 53, 53, 128)  147584      ['activation_7[0][0]']           \n",
      "                                                                                                  \n",
      " batch_normalization_8 (BatchNo  (None, 53, 53, 128)  512        ['conv2d_9[0][0]']               \n",
      " rmalization)                                                                                     \n",
      "                                                                                                  \n",
      " add_3 (Add)                    (None, 53, 53, 128)  0           ['batch_normalization_8[0][0]',  \n",
      "                                                                  'activation_6[0][0]']           \n",
      "                                                                                                  \n",
      " activation_8 (Activation)      (None, 53, 53, 128)  0           ['add_3[0][0]']                  \n",
      "                                                                                                  \n",
      " conv2d_11 (Conv2D)             (None, 53, 53, 256)  295168      ['activation_8[0][0]']           \n",
      "                                                                                                  \n",
      " batch_normalization_9 (BatchNo  (None, 53, 53, 256)  1024       ['conv2d_11[0][0]']              \n",
      " rmalization)                                                                                     \n",
      "                                                                                                  \n",
      " activation_9 (Activation)      (None, 53, 53, 256)  0           ['batch_normalization_9[0][0]']  \n",
      "                                                                                                  \n",
      " conv2d_12 (Conv2D)             (None, 53, 53, 256)  590080      ['activation_9[0][0]']           \n",
      "                                                                                                  \n",
      " batch_normalization_10 (BatchN  (None, 53, 53, 256)  1024       ['conv2d_12[0][0]']              \n",
      " ormalization)                                                                                    \n",
      "                                                                                                  \n",
      " conv2d_10 (Conv2D)             (None, 53, 53, 256)  33024       ['activation_8[0][0]']           \n",
      "                                                                                                  \n",
      " add_4 (Add)                    (None, 53, 53, 256)  0           ['batch_normalization_10[0][0]', \n",
      "                                                                  'conv2d_10[0][0]']              \n",
      "                                                                                                  \n",
      " activation_10 (Activation)     (None, 53, 53, 256)  0           ['add_4[0][0]']                  \n",
      "                                                                                                  \n",
      " conv2d_13 (Conv2D)             (None, 53, 53, 256)  590080      ['activation_10[0][0]']          \n",
      "                                                                                                  \n",
      " batch_normalization_11 (BatchN  (None, 53, 53, 256)  1024       ['conv2d_13[0][0]']              \n",
      " ormalization)                                                                                    \n",
      "                                                                                                  \n",
      " activation_11 (Activation)     (None, 53, 53, 256)  0           ['batch_normalization_11[0][0]'] \n",
      "                                                                                                  \n",
      " conv2d_14 (Conv2D)             (None, 53, 53, 256)  590080      ['activation_11[0][0]']          \n",
      "                                                                                                  \n",
      " batch_normalization_12 (BatchN  (None, 53, 53, 256)  1024       ['conv2d_14[0][0]']              \n",
      " ormalization)                                                                                    \n",
      "                                                                                                  \n",
      " add_5 (Add)                    (None, 53, 53, 256)  0           ['batch_normalization_12[0][0]', \n",
      "                                                                  'activation_10[0][0]']          \n",
      "                                                                                                  \n",
      " activation_12 (Activation)     (None, 53, 53, 256)  0           ['add_5[0][0]']                  \n",
      "                                                                                                  \n",
      " conv2d_16 (Conv2D)             (None, 53, 53, 512)  1180160     ['activation_12[0][0]']          \n",
      "                                                                                                  \n",
      " batch_normalization_13 (BatchN  (None, 53, 53, 512)  2048       ['conv2d_16[0][0]']              \n",
      " ormalization)                                                                                    \n",
      "                                                                                                  \n",
      " activation_13 (Activation)     (None, 53, 53, 512)  0           ['batch_normalization_13[0][0]'] \n",
      "                                                                                                  \n",
      " conv2d_17 (Conv2D)             (None, 53, 53, 512)  2359808     ['activation_13[0][0]']          \n",
      "                                                                                                  \n",
      " batch_normalization_14 (BatchN  (None, 53, 53, 512)  2048       ['conv2d_17[0][0]']              \n",
      " ormalization)                                                                                    \n",
      "                                                                                                  \n",
      " conv2d_15 (Conv2D)             (None, 53, 53, 512)  131584      ['activation_12[0][0]']          \n",
      "                                                                                                  \n",
      " add_6 (Add)                    (None, 53, 53, 512)  0           ['batch_normalization_14[0][0]', \n",
      "                                                                  'conv2d_15[0][0]']              \n",
      "                                                                                                  \n",
      " activation_14 (Activation)     (None, 53, 53, 512)  0           ['add_6[0][0]']                  \n",
      "                                                                                                  \n",
      " conv2d_18 (Conv2D)             (None, 53, 53, 512)  2359808     ['activation_14[0][0]']          \n",
      "                                                                                                  \n",
      " batch_normalization_15 (BatchN  (None, 53, 53, 512)  2048       ['conv2d_18[0][0]']              \n",
      " ormalization)                                                                                    \n",
      "                                                                                                  \n",
      " activation_15 (Activation)     (None, 53, 53, 512)  0           ['batch_normalization_15[0][0]'] \n",
      "                                                                                                  \n",
      " conv2d_19 (Conv2D)             (None, 53, 53, 512)  2359808     ['activation_15[0][0]']          \n",
      "                                                                                                  \n",
      " batch_normalization_16 (BatchN  (None, 53, 53, 512)  2048       ['conv2d_19[0][0]']              \n",
      " ormalization)                                                                                    \n",
      "                                                                                                  \n",
      " add_7 (Add)                    (None, 53, 53, 512)  0           ['batch_normalization_16[0][0]', \n",
      "                                                                  'activation_14[0][0]']          \n",
      "                                                                                                  \n",
      " activation_16 (Activation)     (None, 53, 53, 512)  0           ['add_7[0][0]']                  \n",
      "                                                                                                  \n",
      " average_pooling2d (AveragePool  (None, 7, 7, 512)   0           ['activation_16[0][0]']          \n",
      " ing2D)                                                                                           \n",
      "                                                                                                  \n",
      " flatten (Flatten)              (None, 25088)        0           ['average_pooling2d[0][0]']      \n",
      "                                                                                                  \n",
      " dense (Dense)                  (None, 1000)         25089000    ['flatten[0][0]']                \n",
      "                                                                                                  \n",
      " dense_1 (Dense)                (None, 1000)         1001000     ['dense[0][0]']                  \n",
      "                                                                                                  \n",
      " dense_2 (Dense)                (None, 1)            1001        ['dense_1[0][0]']                \n",
      "                                                                                                  \n",
      "==================================================================================================\n",
      "Total params: 37,270,649\n",
      "Trainable params: 37,262,841\n",
      "Non-trainable params: 7,808\n",
      "__________________________________________________________________________________________________\n"
     ]
    }
   ],
   "source": [
    "model.summary()"
   ]
  },
  {
   "cell_type": "code",
   "execution_count": 23,
   "metadata": {},
   "outputs": [],
   "source": [
    "checkpoint_cb = tf.keras.callbacks.ModelCheckpoint(\"pneu_resnet18_model.h5\",\n",
    "                                                    save_best_only=True)\n",
    "\n",
    "early_stopping_cb = tf.keras.callbacks.EarlyStopping(patience=10,\n",
    "                                                     restore_best_weights=True)\n",
    "\n",
    "#callback 설정"
   ]
  },
  {
   "cell_type": "code",
   "execution_count": 24,
   "metadata": {},
   "outputs": [],
   "source": [
    "def exponential_decay(lr0, s):\n",
    "    def exponential_decay_fn(epoch):\n",
    "        return lr0 * 0.01 **(epoch / s)\n",
    "    return exponential_decay_fn\n",
    "\n",
    "exponential_decay_fn = exponential_decay(0.005, 20)\n",
    "\n",
    "lr_scheduler = tf.keras.callbacks.LearningRateScheduler(exponential_decay_fn)\n",
    "\n",
    "#학습률 설정"
   ]
  },
  {
   "cell_type": "code",
   "execution_count": 25,
   "metadata": {},
   "outputs": [
    {
     "name": "stdout",
     "output_type": "stream",
     "text": [
      "Epoch 1/25\n",
      "146/146 [==============================] - 152s 691ms/step - loss: 10.6348 - accuracy: 0.5805 - precision: 0.7530 - recall: 0.6458 - val_loss: 16.8119 - val_accuracy: 0.6400 - val_precision: 0.7412 - val_recall: 0.7913 - lr: 0.0050\n",
      "Epoch 2/25\n",
      "146/146 [==============================] - 96s 661ms/step - loss: 0.5908 - accuracy: 0.7074 - precision: 0.8771 - recall: 0.7040 - val_loss: 2.3003 - val_accuracy: 0.7448 - val_precision: 0.7447 - val_recall: 0.9983 - lr: 0.0040\n",
      "Epoch 3/25\n",
      "146/146 [==============================] - 99s 678ms/step - loss: 0.2634 - accuracy: 0.8852 - precision: 0.9630 - recall: 0.8785 - val_loss: 0.3994 - val_accuracy: 0.8660 - val_precision: 0.8522 - val_recall: 0.9914 - lr: 0.0032\n",
      "Epoch 4/25\n",
      "146/146 [==============================] - 102s 699ms/step - loss: 0.2199 - accuracy: 0.9079 - precision: 0.9711 - recall: 0.9032 - val_loss: 0.3217 - val_accuracy: 0.8863 - val_precision: 0.8711 - val_recall: 0.9940 - lr: 0.0025\n",
      "Epoch 5/25\n",
      "146/146 [==============================] - 102s 698ms/step - loss: 0.1695 - accuracy: 0.9299 - precision: 0.9781 - recall: 0.9259 - val_loss: 0.1473 - val_accuracy: 0.9384 - val_precision: 0.9661 - val_recall: 0.9504 - lr: 0.0020\n",
      "Epoch 6/25\n",
      "146/146 [==============================] - 93s 641ms/step - loss: 0.1567 - accuracy: 0.9342 - precision: 0.9790 - recall: 0.9312 - val_loss: 0.1954 - val_accuracy: 0.9168 - val_precision: 0.9869 - val_recall: 0.8999 - lr: 0.0016\n",
      "Epoch 7/25\n",
      "146/146 [==============================] - 103s 707ms/step - loss: 0.1546 - accuracy: 0.9370 - precision: 0.9772 - recall: 0.9367 - val_loss: 0.1763 - val_accuracy: 0.9314 - val_precision: 0.9247 - val_recall: 0.9880 - lr: 0.0013\n",
      "Epoch 8/25\n",
      "146/146 [==============================] - 95s 654ms/step - loss: 0.1280 - accuracy: 0.9485 - precision: 0.9854 - recall: 0.9449 - val_loss: 0.3889 - val_accuracy: 0.8387 - val_precision: 0.9904 - val_recall: 0.7904 - lr: 9.9763e-04\n",
      "Epoch 9/25\n",
      "146/146 [==============================] - 96s 661ms/step - loss: 0.1362 - accuracy: 0.9414 - precision: 0.9814 - recall: 0.9385 - val_loss: 0.1401 - val_accuracy: 0.9448 - val_precision: 0.9856 - val_recall: 0.9393 - lr: 7.9245e-04\n",
      "Epoch 10/25\n",
      "146/146 [==============================] - 90s 620ms/step - loss: 0.1180 - accuracy: 0.9521 - precision: 0.9832 - recall: 0.9515 - val_loss: 0.4162 - val_accuracy: 0.8565 - val_precision: 0.9968 - val_recall: 0.8092 - lr: 6.2946e-04\n",
      "Epoch 11/25\n",
      "146/146 [==============================] - 97s 667ms/step - loss: 0.1226 - accuracy: 0.9455 - precision: 0.9849 - recall: 0.9409 - val_loss: 0.1205 - val_accuracy: 0.9524 - val_precision: 0.9536 - val_recall: 0.9837 - lr: 5.0000e-04\n",
      "Epoch 12/25\n",
      "146/146 [==============================] - 94s 647ms/step - loss: 0.1199 - accuracy: 0.9499 - precision: 0.9835 - recall: 0.9483 - val_loss: 0.1234 - val_accuracy: 0.9492 - val_precision: 0.9875 - val_recall: 0.9435 - lr: 3.9716e-04\n",
      "Epoch 13/25\n",
      "146/146 [==============================] - 93s 640ms/step - loss: 0.1040 - accuracy: 0.9534 - precision: 0.9865 - recall: 0.9500 - val_loss: 0.1350 - val_accuracy: 0.9448 - val_precision: 0.9865 - val_recall: 0.9384 - lr: 3.1548e-04\n",
      "Epoch 14/25\n",
      "146/146 [==============================] - 93s 639ms/step - loss: 0.1081 - accuracy: 0.9542 - precision: 0.9851 - recall: 0.9528 - val_loss: 0.1846 - val_accuracy: 0.9352 - val_precision: 0.9926 - val_recall: 0.9196 - lr: 2.5059e-04\n",
      "Epoch 15/25\n",
      "146/146 [==============================] - 93s 640ms/step - loss: 0.1068 - accuracy: 0.9521 - precision: 0.9855 - recall: 0.9495 - val_loss: 0.1683 - val_accuracy: 0.9410 - val_precision: 0.9918 - val_recall: 0.9281 - lr: 1.9905e-04\n",
      "Epoch 16/25\n",
      "146/146 [==============================] - 94s 644ms/step - loss: 0.0992 - accuracy: 0.9567 - precision: 0.9862 - recall: 0.9549 - val_loss: 0.1617 - val_accuracy: 0.9378 - val_precision: 0.9926 - val_recall: 0.9230 - lr: 1.5811e-04\n",
      "Epoch 17/25\n",
      "146/146 [==============================] - 94s 647ms/step - loss: 0.0948 - accuracy: 0.9567 - precision: 0.9866 - recall: 0.9544 - val_loss: 0.3932 - val_accuracy: 0.8622 - val_precision: 0.9907 - val_recall: 0.8221 - lr: 1.2559e-04\n",
      "Epoch 18/25\n",
      "146/146 [==============================] - 95s 655ms/step - loss: 0.0930 - accuracy: 0.9611 - precision: 0.9882 - recall: 0.9590 - val_loss: 0.1058 - val_accuracy: 0.9556 - val_precision: 0.9859 - val_recall: 0.9538 - lr: 9.9763e-05\n",
      "Epoch 19/25\n",
      "146/146 [==============================] - 91s 623ms/step - loss: 0.0876 - accuracy: 0.9608 - precision: 0.9897 - recall: 0.9571 - val_loss: 0.1023 - val_accuracy: 0.9537 - val_precision: 0.9841 - val_recall: 0.9530 - lr: 7.9245e-05\n",
      "Epoch 20/25\n",
      "146/146 [==============================] - 90s 614ms/step - loss: 0.0920 - accuracy: 0.9581 - precision: 0.9867 - recall: 0.9564 - val_loss: 0.1144 - val_accuracy: 0.9575 - val_precision: 0.9893 - val_recall: 0.9530 - lr: 6.2946e-05\n",
      "Epoch 21/25\n",
      "146/146 [==============================] - 90s 616ms/step - loss: 0.0852 - accuracy: 0.9605 - precision: 0.9893 - recall: 0.9570 - val_loss: 0.1405 - val_accuracy: 0.9486 - val_precision: 0.9928 - val_recall: 0.9376 - lr: 5.0000e-05\n",
      "Epoch 22/25\n",
      "146/146 [==============================] - 90s 617ms/step - loss: 0.0813 - accuracy: 0.9641 - precision: 0.9886 - recall: 0.9628 - val_loss: 0.1286 - val_accuracy: 0.9498 - val_precision: 0.9928 - val_recall: 0.9393 - lr: 3.9716e-05\n",
      "Epoch 23/25\n",
      "146/146 [==============================] - 90s 615ms/step - loss: 0.0844 - accuracy: 0.9627 - precision: 0.9893 - recall: 0.9601 - val_loss: 0.1235 - val_accuracy: 0.9517 - val_precision: 0.9928 - val_recall: 0.9418 - lr: 3.1548e-05\n",
      "Epoch 24/25\n",
      "146/146 [==============================] - 90s 616ms/step - loss: 0.0824 - accuracy: 0.9619 - precision: 0.9882 - recall: 0.9599 - val_loss: 0.1135 - val_accuracy: 0.9543 - val_precision: 0.9902 - val_recall: 0.9478 - lr: 2.5059e-05\n",
      "Epoch 25/25\n",
      "146/146 [==============================] - 90s 617ms/step - loss: 0.0899 - accuracy: 0.9589 - precision: 0.9871 - recall: 0.9572 - val_loss: 0.1181 - val_accuracy: 0.9556 - val_precision: 0.9928 - val_recall: 0.9470 - lr: 1.9905e-05\n"
     ]
    }
   ],
   "source": [
    "history = model.fit(\n",
    "    train_ds,\n",
    "    steps_per_epoch=TRAIN_IMG_COUNT // BATCH_SIZE,\n",
    "    epochs=EPOCHS,\n",
    "    validation_data=val_ds,\n",
    "    validation_steps=VAL_IMG_COUNT // BATCH_SIZE,\n",
    "    class_weight=class_weight,\n",
    "    callbacks=[checkpoint_cb, early_stopping_cb, lr_scheduler]\n",
    ")"
   ]
  },
  {
   "cell_type": "code",
   "execution_count": 26,
   "metadata": {},
   "outputs": [
    {
     "data": {
      "image/png": "[encoded data removed]",
      "text/plain": [
       "<Figure size 2000x300 with 4 Axes>"
      ]
     },
     "metadata": {},
     "output_type": "display_data"
    }
   ],
   "source": [
    "#성능 시각화\n",
    "fig, ax = plt.subplots(1, 4, figsize=(20, 3))\n",
    "ax = ax.ravel()\n",
    "\n",
    "for i, met in enumerate(['precision', 'recall', 'accuracy', 'loss']):\n",
    "    ax[i].plot(history.history[met])\n",
    "    ax[i].plot(history.history['val_' + met])\n",
    "    ax[i].set_title('Model {}'.format(met))\n",
    "    ax[i].set_xlabel('epochs')\n",
    "    ax[i].set_ylabel(met)\n",
    "    ax[i].legend(['train', 'val'])"
   ]
  },
  {
   "cell_type": "code",
   "execution_count": 27,
   "metadata": {},
   "outputs": [
    {
     "name": "stdout",
     "output_type": "stream",
     "text": [
      "25/25 [==============================] - 5s 207ms/step - loss: 0.7801 - accuracy: 0.7821 - precision: 0.7520 - recall: 0.9718\n",
      "Loss: 0.7801341414451599,\n",
      "Accuracy: 0.7820512652397156,\n",
      "Precision: 0.7519841194152832,\n",
      "Recall: 0.971794843673706\n"
     ]
    }
   ],
   "source": [
    "#평가\n",
    "loss, accuracy, precision, recall = model.evaluate(test_ds)\n",
    "print(f'Loss: {loss},\\nAccuracy: {accuracy},\\nPrecision: {precision},\\nRecall: {recall}')"
   ]
  },
  {
   "cell_type": "code",
   "execution_count": 28,
   "metadata": {},
   "outputs": [],
   "source": [
    "#엥?"
   ]
  },
  {
   "cell_type": "code",
   "execution_count": null,
   "metadata": {},
   "outputs": [],
   "source": []
  }
 ],
 "metadata": {
  "kernelspec": {
   "display_name": "pyenv",
   "language": "python",
   "name": "python3"
  },
  "language_info": {
   "codemirror_mode": {
    "name": "ipython",
    "version": 3
   },
   "file_extension": ".py",
   "mimetype": "text/x-python",
   "name": "python",
   "nbconvert_exporter": "python",
   "pygments_lexer": "ipython3",
   "version": "3.10.13"
  }
 },
 "nbformat": 4,
 "nbformat_minor": 2
}
