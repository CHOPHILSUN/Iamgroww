{
 "cells": [
  {
   "cell_type": "code",
   "execution_count": 1,
   "id": "86205a3d-f00c-4726-92b2-881a6a79ad47",
   "metadata": {},
   "outputs": [],
   "source": [
    "import pandas as pd"
   ]
  },
  {
   "cell_type": "code",
   "execution_count": 2,
   "id": "f4f391ec-20bd-40c4-b1eb-611aacbacc8e",
   "metadata": {},
   "outputs": [],
   "source": [
    "# 데이터 불러오기\n",
    "train = pd.read_csv('C:/Users/Desk_Kang/Downloads/train.csv')\n",
    "test = pd.read_csv('C:/Users/Desk_Kang/Downloads/test.csv')"
   ]
  },
  {
   "cell_type": "code",
   "execution_count": 3,
   "id": "2c9486d4-6f9a-4193-8726-56723eeb3a63",
   "metadata": {},
   "outputs": [
    {
     "data": {
      "text/plain": [
       "((39116, 16), (9779, 15))"
      ]
     },
     "execution_count": 3,
     "metadata": {},
     "output_type": "execute_result"
    }
   ],
   "source": [
    "# 데이터 크기\n",
    "train.shape, test.shape"
   ]
  },
  {
   "cell_type": "code",
   "execution_count": 4,
   "id": "fc27c460-426c-470f-8820-6c11650d3a4b",
   "metadata": {},
   "outputs": [
    {
     "data": {
      "text/html": [
       "<div>\n",
       "<style scoped>\n",
       "    .dataframe tbody tr th:only-of-type {\n",
       "        vertical-align: middle;\n",
       "    }\n",
       "\n",
       "    .dataframe tbody tr th {\n",
       "        vertical-align: top;\n",
       "    }\n",
       "\n",
       "    .dataframe thead th {\n",
       "        text-align: right;\n",
       "    }\n",
       "</style>\n",
       "<table border=\"1\" class=\"dataframe\">\n",
       "  <thead>\n",
       "    <tr style=\"text-align: right;\">\n",
       "      <th></th>\n",
       "      <th>id</th>\n",
       "      <th>name</th>\n",
       "      <th>host_id</th>\n",
       "      <th>host_name</th>\n",
       "      <th>neighbourhood_group</th>\n",
       "      <th>neighbourhood</th>\n",
       "      <th>latitude</th>\n",
       "      <th>longitude</th>\n",
       "      <th>room_type</th>\n",
       "      <th>price</th>\n",
       "      <th>minimum_nights</th>\n",
       "      <th>number_of_reviews</th>\n",
       "      <th>last_review</th>\n",
       "      <th>reviews_per_month</th>\n",
       "      <th>calculated_host_listings_count</th>\n",
       "      <th>availability_365</th>\n",
       "    </tr>\n",
       "  </thead>\n",
       "  <tbody>\n",
       "    <tr>\n",
       "      <th>0</th>\n",
       "      <td>14963583</td>\n",
       "      <td>Room in South Harlem near Central Park</td>\n",
       "      <td>94219511</td>\n",
       "      <td>Gilles</td>\n",
       "      <td>Manhattan</td>\n",
       "      <td>Harlem</td>\n",
       "      <td>40.80167</td>\n",
       "      <td>-73.95781</td>\n",
       "      <td>Private room</td>\n",
       "      <td>70</td>\n",
       "      <td>3</td>\n",
       "      <td>3</td>\n",
       "      <td>2019-01-01</td>\n",
       "      <td>0.09</td>\n",
       "      <td>2</td>\n",
       "      <td>0</td>\n",
       "    </tr>\n",
       "    <tr>\n",
       "      <th>1</th>\n",
       "      <td>9458704</td>\n",
       "      <td>Large 1BR Apartment, near Times Sq (2nd Floor)</td>\n",
       "      <td>49015331</td>\n",
       "      <td>Iradj</td>\n",
       "      <td>Manhattan</td>\n",
       "      <td>Hell's Kitchen</td>\n",
       "      <td>40.76037</td>\n",
       "      <td>-73.99016</td>\n",
       "      <td>Entire home/apt</td>\n",
       "      <td>240</td>\n",
       "      <td>2</td>\n",
       "      <td>64</td>\n",
       "      <td>2019-06-30</td>\n",
       "      <td>1.68</td>\n",
       "      <td>2</td>\n",
       "      <td>262</td>\n",
       "    </tr>\n",
       "  </tbody>\n",
       "</table>\n",
       "</div>"
      ],
      "text/plain": [
       "         id                                            name   host_id  \\\n",
       "0  14963583          Room in South Harlem near Central Park  94219511   \n",
       "1   9458704  Large 1BR Apartment, near Times Sq (2nd Floor)  49015331   \n",
       "\n",
       "  host_name neighbourhood_group   neighbourhood  latitude  longitude  \\\n",
       "0    Gilles           Manhattan          Harlem  40.80167  -73.95781   \n",
       "1     Iradj           Manhattan  Hell's Kitchen  40.76037  -73.99016   \n",
       "\n",
       "         room_type  price  minimum_nights  number_of_reviews last_review  \\\n",
       "0     Private room     70               3                  3  2019-01-01   \n",
       "1  Entire home/apt    240               2                 64  2019-06-30   \n",
       "\n",
       "   reviews_per_month  calculated_host_listings_count  availability_365  \n",
       "0               0.09                               2                 0  \n",
       "1               1.68                               2               262  "
      ]
     },
     "metadata": {},
     "output_type": "display_data"
    },
    {
     "data": {
      "text/html": [
       "<div>\n",
       "<style scoped>\n",
       "    .dataframe tbody tr th:only-of-type {\n",
       "        vertical-align: middle;\n",
       "    }\n",
       "\n",
       "    .dataframe tbody tr th {\n",
       "        vertical-align: top;\n",
       "    }\n",
       "\n",
       "    .dataframe thead th {\n",
       "        text-align: right;\n",
       "    }\n",
       "</style>\n",
       "<table border=\"1\" class=\"dataframe\">\n",
       "  <thead>\n",
       "    <tr style=\"text-align: right;\">\n",
       "      <th></th>\n",
       "      <th>id</th>\n",
       "      <th>name</th>\n",
       "      <th>host_id</th>\n",
       "      <th>host_name</th>\n",
       "      <th>neighbourhood_group</th>\n",
       "      <th>neighbourhood</th>\n",
       "      <th>latitude</th>\n",
       "      <th>longitude</th>\n",
       "      <th>room_type</th>\n",
       "      <th>minimum_nights</th>\n",
       "      <th>number_of_reviews</th>\n",
       "      <th>last_review</th>\n",
       "      <th>reviews_per_month</th>\n",
       "      <th>calculated_host_listings_count</th>\n",
       "      <th>availability_365</th>\n",
       "    </tr>\n",
       "  </thead>\n",
       "  <tbody>\n",
       "    <tr>\n",
       "      <th>0</th>\n",
       "      <td>30913224</td>\n",
       "      <td>Cozy and Sunny Room Williamsburg, Luxury Building</td>\n",
       "      <td>33771081</td>\n",
       "      <td>Rémy</td>\n",
       "      <td>Brooklyn</td>\n",
       "      <td>Williamsburg</td>\n",
       "      <td>40.70959</td>\n",
       "      <td>-73.94652</td>\n",
       "      <td>Private room</td>\n",
       "      <td>3</td>\n",
       "      <td>2</td>\n",
       "      <td>2019-05-08</td>\n",
       "      <td>0.31</td>\n",
       "      <td>1</td>\n",
       "      <td>0</td>\n",
       "    </tr>\n",
       "    <tr>\n",
       "      <th>1</th>\n",
       "      <td>971247</td>\n",
       "      <td>Sunny Artist Live/Work Apartment</td>\n",
       "      <td>5308961</td>\n",
       "      <td>Larry</td>\n",
       "      <td>Manhattan</td>\n",
       "      <td>Upper West Side</td>\n",
       "      <td>40.79368</td>\n",
       "      <td>-73.96487</td>\n",
       "      <td>Entire home/apt</td>\n",
       "      <td>3</td>\n",
       "      <td>159</td>\n",
       "      <td>2019-07-03</td>\n",
       "      <td>2.09</td>\n",
       "      <td>1</td>\n",
       "      <td>244</td>\n",
       "    </tr>\n",
       "  </tbody>\n",
       "</table>\n",
       "</div>"
      ],
      "text/plain": [
       "         id                                               name   host_id  \\\n",
       "0  30913224  Cozy and Sunny Room Williamsburg, Luxury Building  33771081   \n",
       "1    971247                   Sunny Artist Live/Work Apartment   5308961   \n",
       "\n",
       "  host_name neighbourhood_group    neighbourhood  latitude  longitude  \\\n",
       "0      Rémy            Brooklyn     Williamsburg  40.70959  -73.94652   \n",
       "1     Larry           Manhattan  Upper West Side  40.79368  -73.96487   \n",
       "\n",
       "         room_type  minimum_nights  number_of_reviews last_review  \\\n",
       "0     Private room               3                  2  2019-05-08   \n",
       "1  Entire home/apt               3                159  2019-07-03   \n",
       "\n",
       "   reviews_per_month  calculated_host_listings_count  availability_365  \n",
       "0               0.31                               1                 0  \n",
       "1               2.09                               1               244  "
      ]
     },
     "metadata": {},
     "output_type": "display_data"
    }
   ],
   "source": [
    "# 데이터 샘플\n",
    "display(train.head(2))\n",
    "display(test.head(2))"
   ]
  },
  {
   "cell_type": "code",
   "execution_count": 5,
   "id": "ae3e75a6-a5df-4265-b527-85dbb7b7396b",
   "metadata": {},
   "outputs": [
    {
     "name": "stdout",
     "output_type": "stream",
     "text": [
      "<class 'pandas.core.frame.DataFrame'>\n",
      "RangeIndex: 39116 entries, 0 to 39115\n",
      "Data columns (total 16 columns):\n",
      " #   Column                          Non-Null Count  Dtype  \n",
      "---  ------                          --------------  -----  \n",
      " 0   id                              39116 non-null  int64  \n",
      " 1   name                            39104 non-null  object \n",
      " 2   host_id                         39116 non-null  int64  \n",
      " 3   host_name                       39099 non-null  object \n",
      " 4   neighbourhood_group             39116 non-null  object \n",
      " 5   neighbourhood                   39116 non-null  object \n",
      " 6   latitude                        39116 non-null  float64\n",
      " 7   longitude                       39116 non-null  float64\n",
      " 8   room_type                       39116 non-null  object \n",
      " 9   price                           39116 non-null  int64  \n",
      " 10  minimum_nights                  39116 non-null  int64  \n",
      " 11  number_of_reviews               39116 non-null  int64  \n",
      " 12  last_review                     31122 non-null  object \n",
      " 13  reviews_per_month               31122 non-null  float64\n",
      " 14  calculated_host_listings_count  39116 non-null  int64  \n",
      " 15  availability_365                39116 non-null  int64  \n",
      "dtypes: float64(3), int64(7), object(6)\n",
      "memory usage: 4.8+ MB\n"
     ]
    }
   ],
   "source": [
    "# 데이터 타입\n",
    "train.info()"
   ]
  },
  {
   "cell_type": "code",
   "execution_count": 6,
   "id": "d654552c-8f44-451c-8cac-a80ba7068fd6",
   "metadata": {},
   "outputs": [
    {
     "data": {
      "text/plain": [
       "id                                   0\n",
       "name                                12\n",
       "host_id                              0\n",
       "host_name                           17\n",
       "neighbourhood_group                  0\n",
       "neighbourhood                        0\n",
       "latitude                             0\n",
       "longitude                            0\n",
       "room_type                            0\n",
       "price                                0\n",
       "minimum_nights                       0\n",
       "number_of_reviews                    0\n",
       "last_review                       7994\n",
       "reviews_per_month                 7994\n",
       "calculated_host_listings_count       0\n",
       "availability_365                     0\n",
       "dtype: int64"
      ]
     },
     "execution_count": 6,
     "metadata": {},
     "output_type": "execute_result"
    }
   ],
   "source": [
    "# 결측치(train)\n",
    "train.isnull().sum()"
   ]
  },
  {
   "cell_type": "code",
   "execution_count": 7,
   "id": "c3ff06d4-d33c-484d-9425-d4c5d8b082e0",
   "metadata": {},
   "outputs": [
    {
     "data": {
      "text/plain": [
       "id                                   0\n",
       "name                                 4\n",
       "host_id                              0\n",
       "host_name                            4\n",
       "neighbourhood_group                  0\n",
       "neighbourhood                        0\n",
       "latitude                             0\n",
       "longitude                            0\n",
       "room_type                            0\n",
       "minimum_nights                       0\n",
       "number_of_reviews                    0\n",
       "last_review                       2058\n",
       "reviews_per_month                 2058\n",
       "calculated_host_listings_count       0\n",
       "availability_365                     0\n",
       "dtype: int64"
      ]
     },
     "execution_count": 7,
     "metadata": {},
     "output_type": "execute_result"
    }
   ],
   "source": [
    "# 결측치(test)\n",
    "test.isnull().sum()"
   ]
  },
  {
   "cell_type": "code",
   "execution_count": 8,
   "id": "1c41a8b6-3b83-4284-8acb-4abc882ee3d4",
   "metadata": {},
   "outputs": [
    {
     "data": {
      "text/plain": [
       "<Axes: >"
      ]
     },
     "execution_count": 8,
     "metadata": {},
     "output_type": "execute_result"
    },
    {
     "data": {
      "image/png": "[encoded data removed]",
      "text/plain": [
       "<Figure size 640x480 with 1 Axes>"
      ]
     },
     "metadata": {},
     "output_type": "display_data"
    }
   ],
   "source": [
    "# target(hist)\n",
    "train['price'].hist(bins=100)"
   ]
  },
  {
   "cell_type": "code",
   "execution_count": 9,
   "id": "af8798bf-9d2a-4864-97d1-ceb4cc773d25",
   "metadata": {},
   "outputs": [
    {
     "data": {
      "text/plain": [
       "count    39116.000000\n",
       "mean       152.751150\n",
       "std        241.752501\n",
       "min          0.000000\n",
       "25%         69.000000\n",
       "50%        105.000000\n",
       "75%        175.000000\n",
       "max      10000.000000\n",
       "Name: price, dtype: float64"
      ]
     },
     "execution_count": 9,
     "metadata": {},
     "output_type": "execute_result"
    }
   ],
   "source": [
    "# target(describe)\n",
    "train['price'].describe()"
   ]
  },
  {
   "cell_type": "code",
   "execution_count": 10,
   "id": "b1e3e9a5-2e4b-4e09-8125-1c33b0def387",
   "metadata": {},
   "outputs": [
    {
     "data": {
      "text/plain": [
       "host_id\n",
       "219517861    256\n",
       "107434423    181\n",
       "30283594      99\n",
       "137358866     82\n",
       "12243051      80\n",
       "            ... \n",
       "73369106       1\n",
       "26620387       1\n",
       "176660539      1\n",
       "26004891       1\n",
       "2609535        1\n",
       "Name: count, Length: 30845, dtype: int64"
      ]
     },
     "execution_count": 10,
     "metadata": {},
     "output_type": "execute_result"
    }
   ],
   "source": [
    "# 피처(host_id)\n",
    "train['host_id'].value_counts()"
   ]
  },
  {
   "cell_type": "code",
   "execution_count": 11,
   "id": "31e85d77-eb06-45b9-9838-8685b1606018",
   "metadata": {},
   "outputs": [
    {
     "data": {
      "text/html": [
       "<div>\n",
       "<style scoped>\n",
       "    .dataframe tbody tr th:only-of-type {\n",
       "        vertical-align: middle;\n",
       "    }\n",
       "\n",
       "    .dataframe tbody tr th {\n",
       "        vertical-align: top;\n",
       "    }\n",
       "\n",
       "    .dataframe thead th {\n",
       "        text-align: right;\n",
       "    }\n",
       "</style>\n",
       "<table border=\"1\" class=\"dataframe\">\n",
       "  <thead>\n",
       "    <tr style=\"text-align: right;\">\n",
       "      <th></th>\n",
       "      <th>id</th>\n",
       "      <th>name</th>\n",
       "      <th>host_id</th>\n",
       "      <th>host_name</th>\n",
       "      <th>neighbourhood_group</th>\n",
       "      <th>neighbourhood</th>\n",
       "      <th>latitude</th>\n",
       "      <th>longitude</th>\n",
       "      <th>room_type</th>\n",
       "      <th>price</th>\n",
       "      <th>minimum_nights</th>\n",
       "      <th>number_of_reviews</th>\n",
       "      <th>reviews_per_month</th>\n",
       "      <th>calculated_host_listings_count</th>\n",
       "      <th>availability_365</th>\n",
       "    </tr>\n",
       "  </thead>\n",
       "  <tbody>\n",
       "    <tr>\n",
       "      <th>0</th>\n",
       "      <td>14963583</td>\n",
       "      <td>Room in South Harlem near Central Park</td>\n",
       "      <td>94219511</td>\n",
       "      <td>Gilles</td>\n",
       "      <td>Manhattan</td>\n",
       "      <td>Harlem</td>\n",
       "      <td>40.80167</td>\n",
       "      <td>-73.95781</td>\n",
       "      <td>Private room</td>\n",
       "      <td>70</td>\n",
       "      <td>3</td>\n",
       "      <td>3</td>\n",
       "      <td>0.09</td>\n",
       "      <td>2</td>\n",
       "      <td>0</td>\n",
       "    </tr>\n",
       "    <tr>\n",
       "      <th>1</th>\n",
       "      <td>9458704</td>\n",
       "      <td>Large 1BR Apartment, near Times Sq (2nd Floor)</td>\n",
       "      <td>49015331</td>\n",
       "      <td>Iradj</td>\n",
       "      <td>Manhattan</td>\n",
       "      <td>Hell's Kitchen</td>\n",
       "      <td>40.76037</td>\n",
       "      <td>-73.99016</td>\n",
       "      <td>Entire home/apt</td>\n",
       "      <td>240</td>\n",
       "      <td>2</td>\n",
       "      <td>64</td>\n",
       "      <td>1.68</td>\n",
       "      <td>2</td>\n",
       "      <td>262</td>\n",
       "    </tr>\n",
       "  </tbody>\n",
       "</table>\n",
       "</div>"
      ],
      "text/plain": [
       "         id                                            name   host_id  \\\n",
       "0  14963583          Room in South Harlem near Central Park  94219511   \n",
       "1   9458704  Large 1BR Apartment, near Times Sq (2nd Floor)  49015331   \n",
       "\n",
       "  host_name neighbourhood_group   neighbourhood  latitude  longitude  \\\n",
       "0    Gilles           Manhattan          Harlem  40.80167  -73.95781   \n",
       "1     Iradj           Manhattan  Hell's Kitchen  40.76037  -73.99016   \n",
       "\n",
       "         room_type  price  minimum_nights  number_of_reviews  \\\n",
       "0     Private room     70               3                  3   \n",
       "1  Entire home/apt    240               2                 64   \n",
       "\n",
       "   reviews_per_month  calculated_host_listings_count  availability_365  \n",
       "0               0.09                               2                 0  \n",
       "1               1.68                               2               262  "
      ]
     },
     "metadata": {},
     "output_type": "display_data"
    },
    {
     "data": {
      "text/html": [
       "<div>\n",
       "<style scoped>\n",
       "    .dataframe tbody tr th:only-of-type {\n",
       "        vertical-align: middle;\n",
       "    }\n",
       "\n",
       "    .dataframe tbody tr th {\n",
       "        vertical-align: top;\n",
       "    }\n",
       "\n",
       "    .dataframe thead th {\n",
       "        text-align: right;\n",
       "    }\n",
       "</style>\n",
       "<table border=\"1\" class=\"dataframe\">\n",
       "  <thead>\n",
       "    <tr style=\"text-align: right;\">\n",
       "      <th></th>\n",
       "      <th>id</th>\n",
       "      <th>name</th>\n",
       "      <th>host_id</th>\n",
       "      <th>host_name</th>\n",
       "      <th>neighbourhood_group</th>\n",
       "      <th>neighbourhood</th>\n",
       "      <th>latitude</th>\n",
       "      <th>longitude</th>\n",
       "      <th>room_type</th>\n",
       "      <th>minimum_nights</th>\n",
       "      <th>number_of_reviews</th>\n",
       "      <th>reviews_per_month</th>\n",
       "      <th>calculated_host_listings_count</th>\n",
       "      <th>availability_365</th>\n",
       "    </tr>\n",
       "  </thead>\n",
       "  <tbody>\n",
       "    <tr>\n",
       "      <th>0</th>\n",
       "      <td>30913224</td>\n",
       "      <td>Cozy and Sunny Room Williamsburg, Luxury Building</td>\n",
       "      <td>33771081</td>\n",
       "      <td>Rémy</td>\n",
       "      <td>Brooklyn</td>\n",
       "      <td>Williamsburg</td>\n",
       "      <td>40.70959</td>\n",
       "      <td>-73.94652</td>\n",
       "      <td>Private room</td>\n",
       "      <td>3</td>\n",
       "      <td>2</td>\n",
       "      <td>0.31</td>\n",
       "      <td>1</td>\n",
       "      <td>0</td>\n",
       "    </tr>\n",
       "    <tr>\n",
       "      <th>1</th>\n",
       "      <td>971247</td>\n",
       "      <td>Sunny Artist Live/Work Apartment</td>\n",
       "      <td>5308961</td>\n",
       "      <td>Larry</td>\n",
       "      <td>Manhattan</td>\n",
       "      <td>Upper West Side</td>\n",
       "      <td>40.79368</td>\n",
       "      <td>-73.96487</td>\n",
       "      <td>Entire home/apt</td>\n",
       "      <td>3</td>\n",
       "      <td>159</td>\n",
       "      <td>2.09</td>\n",
       "      <td>1</td>\n",
       "      <td>244</td>\n",
       "    </tr>\n",
       "  </tbody>\n",
       "</table>\n",
       "</div>"
      ],
      "text/plain": [
       "         id                                               name   host_id  \\\n",
       "0  30913224  Cozy and Sunny Room Williamsburg, Luxury Building  33771081   \n",
       "1    971247                   Sunny Artist Live/Work Apartment   5308961   \n",
       "\n",
       "  host_name neighbourhood_group    neighbourhood  latitude  longitude  \\\n",
       "0      Rémy            Brooklyn     Williamsburg  40.70959  -73.94652   \n",
       "1     Larry           Manhattan  Upper West Side  40.79368  -73.96487   \n",
       "\n",
       "         room_type  minimum_nights  number_of_reviews  reviews_per_month  \\\n",
       "0     Private room               3                  2               0.31   \n",
       "1  Entire home/apt               3                159               2.09   \n",
       "\n",
       "   calculated_host_listings_count  availability_365  \n",
       "0                               1                 0  \n",
       "1                               1               244  "
      ]
     },
     "metadata": {},
     "output_type": "display_data"
    }
   ],
   "source": [
    "# 결측치 컬럼 삭제(last_review)\n",
    "train = train.drop('last_review', axis=1)\n",
    "test = test.drop('last_review', axis=1)\n",
    "display(train.head(2))\n",
    "display(test.head(2))"
   ]
  },
  {
   "cell_type": "code",
   "execution_count": 12,
   "id": "b866538c-d9f0-41af-8274-431de873627d",
   "metadata": {},
   "outputs": [
    {
     "data": {
      "text/html": [
       "<div>\n",
       "<style scoped>\n",
       "    .dataframe tbody tr th:only-of-type {\n",
       "        vertical-align: middle;\n",
       "    }\n",
       "\n",
       "    .dataframe tbody tr th {\n",
       "        vertical-align: top;\n",
       "    }\n",
       "\n",
       "    .dataframe thead th {\n",
       "        text-align: right;\n",
       "    }\n",
       "</style>\n",
       "<table border=\"1\" class=\"dataframe\">\n",
       "  <thead>\n",
       "    <tr style=\"text-align: right;\">\n",
       "      <th></th>\n",
       "      <th>id</th>\n",
       "      <th>name</th>\n",
       "      <th>host_id</th>\n",
       "      <th>host_name</th>\n",
       "      <th>neighbourhood_group</th>\n",
       "      <th>neighbourhood</th>\n",
       "      <th>latitude</th>\n",
       "      <th>longitude</th>\n",
       "      <th>room_type</th>\n",
       "      <th>price</th>\n",
       "      <th>minimum_nights</th>\n",
       "      <th>number_of_reviews</th>\n",
       "      <th>reviews_per_month</th>\n",
       "      <th>calculated_host_listings_count</th>\n",
       "      <th>availability_365</th>\n",
       "    </tr>\n",
       "  </thead>\n",
       "  <tbody>\n",
       "    <tr>\n",
       "      <th>0</th>\n",
       "      <td>14963583</td>\n",
       "      <td>Room in South Harlem near Central Park</td>\n",
       "      <td>94219511</td>\n",
       "      <td>Gilles</td>\n",
       "      <td>Manhattan</td>\n",
       "      <td>Harlem</td>\n",
       "      <td>40.80167</td>\n",
       "      <td>-73.95781</td>\n",
       "      <td>Private room</td>\n",
       "      <td>70</td>\n",
       "      <td>3</td>\n",
       "      <td>3</td>\n",
       "      <td>0.09</td>\n",
       "      <td>2</td>\n",
       "      <td>0</td>\n",
       "    </tr>\n",
       "    <tr>\n",
       "      <th>1</th>\n",
       "      <td>9458704</td>\n",
       "      <td>Large 1BR Apartment, near Times Sq (2nd Floor)</td>\n",
       "      <td>49015331</td>\n",
       "      <td>Iradj</td>\n",
       "      <td>Manhattan</td>\n",
       "      <td>Hell's Kitchen</td>\n",
       "      <td>40.76037</td>\n",
       "      <td>-73.99016</td>\n",
       "      <td>Entire home/apt</td>\n",
       "      <td>240</td>\n",
       "      <td>2</td>\n",
       "      <td>64</td>\n",
       "      <td>1.68</td>\n",
       "      <td>2</td>\n",
       "      <td>262</td>\n",
       "    </tr>\n",
       "    <tr>\n",
       "      <th>2</th>\n",
       "      <td>26871281</td>\n",
       "      <td>West Village Apartment</td>\n",
       "      <td>440022</td>\n",
       "      <td>Petter</td>\n",
       "      <td>Manhattan</td>\n",
       "      <td>West Village</td>\n",
       "      <td>40.73001</td>\n",
       "      <td>-74.00562</td>\n",
       "      <td>Entire home/apt</td>\n",
       "      <td>150</td>\n",
       "      <td>60</td>\n",
       "      <td>1</td>\n",
       "      <td>0.20</td>\n",
       "      <td>1</td>\n",
       "      <td>0</td>\n",
       "    </tr>\n",
       "    <tr>\n",
       "      <th>3</th>\n",
       "      <td>698132</td>\n",
       "      <td>LARGE PRIVATE FLOOR IN BROOKLYN, NY</td>\n",
       "      <td>3577509</td>\n",
       "      <td>Eric</td>\n",
       "      <td>Brooklyn</td>\n",
       "      <td>Bedford-Stuyvesant</td>\n",
       "      <td>40.69128</td>\n",
       "      <td>-73.93653</td>\n",
       "      <td>Entire home/apt</td>\n",
       "      <td>85</td>\n",
       "      <td>4</td>\n",
       "      <td>239</td>\n",
       "      <td>2.89</td>\n",
       "      <td>2</td>\n",
       "      <td>1</td>\n",
       "    </tr>\n",
       "    <tr>\n",
       "      <th>4</th>\n",
       "      <td>15783953</td>\n",
       "      <td>Sun-drenched apartment, 20 mins to Manhattan</td>\n",
       "      <td>12475280</td>\n",
       "      <td>George</td>\n",
       "      <td>Brooklyn</td>\n",
       "      <td>Bedford-Stuyvesant</td>\n",
       "      <td>40.68899</td>\n",
       "      <td>-73.95555</td>\n",
       "      <td>Private room</td>\n",
       "      <td>44</td>\n",
       "      <td>28</td>\n",
       "      <td>0</td>\n",
       "      <td>0.00</td>\n",
       "      <td>1</td>\n",
       "      <td>0</td>\n",
       "    </tr>\n",
       "  </tbody>\n",
       "</table>\n",
       "</div>"
      ],
      "text/plain": [
       "         id                                            name   host_id  \\\n",
       "0  14963583          Room in South Harlem near Central Park  94219511   \n",
       "1   9458704  Large 1BR Apartment, near Times Sq (2nd Floor)  49015331   \n",
       "2  26871281                          West Village Apartment    440022   \n",
       "3    698132             LARGE PRIVATE FLOOR IN BROOKLYN, NY   3577509   \n",
       "4  15783953    Sun-drenched apartment, 20 mins to Manhattan  12475280   \n",
       "\n",
       "  host_name neighbourhood_group       neighbourhood  latitude  longitude  \\\n",
       "0    Gilles           Manhattan              Harlem  40.80167  -73.95781   \n",
       "1     Iradj           Manhattan      Hell's Kitchen  40.76037  -73.99016   \n",
       "2    Petter           Manhattan        West Village  40.73001  -74.00562   \n",
       "3      Eric            Brooklyn  Bedford-Stuyvesant  40.69128  -73.93653   \n",
       "4    George            Brooklyn  Bedford-Stuyvesant  40.68899  -73.95555   \n",
       "\n",
       "         room_type  price  minimum_nights  number_of_reviews  \\\n",
       "0     Private room     70               3                  3   \n",
       "1  Entire home/apt    240               2                 64   \n",
       "2  Entire home/apt    150              60                  1   \n",
       "3  Entire home/apt     85               4                239   \n",
       "4     Private room     44              28                  0   \n",
       "\n",
       "   reviews_per_month  calculated_host_listings_count  availability_365  \n",
       "0               0.09                               2                 0  \n",
       "1               1.68                               2               262  \n",
       "2               0.20                               1                 0  \n",
       "3               2.89                               2                 1  \n",
       "4               0.00                               1                 0  "
      ]
     },
     "metadata": {},
     "output_type": "display_data"
    },
    {
     "data": {
      "text/html": [
       "<div>\n",
       "<style scoped>\n",
       "    .dataframe tbody tr th:only-of-type {\n",
       "        vertical-align: middle;\n",
       "    }\n",
       "\n",
       "    .dataframe tbody tr th {\n",
       "        vertical-align: top;\n",
       "    }\n",
       "\n",
       "    .dataframe thead th {\n",
       "        text-align: right;\n",
       "    }\n",
       "</style>\n",
       "<table border=\"1\" class=\"dataframe\">\n",
       "  <thead>\n",
       "    <tr style=\"text-align: right;\">\n",
       "      <th></th>\n",
       "      <th>id</th>\n",
       "      <th>name</th>\n",
       "      <th>host_id</th>\n",
       "      <th>host_name</th>\n",
       "      <th>neighbourhood_group</th>\n",
       "      <th>neighbourhood</th>\n",
       "      <th>latitude</th>\n",
       "      <th>longitude</th>\n",
       "      <th>room_type</th>\n",
       "      <th>minimum_nights</th>\n",
       "      <th>number_of_reviews</th>\n",
       "      <th>reviews_per_month</th>\n",
       "      <th>calculated_host_listings_count</th>\n",
       "      <th>availability_365</th>\n",
       "    </tr>\n",
       "  </thead>\n",
       "  <tbody>\n",
       "    <tr>\n",
       "      <th>0</th>\n",
       "      <td>30913224</td>\n",
       "      <td>Cozy and Sunny Room Williamsburg, Luxury Building</td>\n",
       "      <td>33771081</td>\n",
       "      <td>Rémy</td>\n",
       "      <td>Brooklyn</td>\n",
       "      <td>Williamsburg</td>\n",
       "      <td>40.70959</td>\n",
       "      <td>-73.94652</td>\n",
       "      <td>Private room</td>\n",
       "      <td>3</td>\n",
       "      <td>2</td>\n",
       "      <td>0.31</td>\n",
       "      <td>1</td>\n",
       "      <td>0</td>\n",
       "    </tr>\n",
       "    <tr>\n",
       "      <th>1</th>\n",
       "      <td>971247</td>\n",
       "      <td>Sunny Artist Live/Work Apartment</td>\n",
       "      <td>5308961</td>\n",
       "      <td>Larry</td>\n",
       "      <td>Manhattan</td>\n",
       "      <td>Upper West Side</td>\n",
       "      <td>40.79368</td>\n",
       "      <td>-73.96487</td>\n",
       "      <td>Entire home/apt</td>\n",
       "      <td>3</td>\n",
       "      <td>159</td>\n",
       "      <td>2.09</td>\n",
       "      <td>1</td>\n",
       "      <td>244</td>\n",
       "    </tr>\n",
       "    <tr>\n",
       "      <th>2</th>\n",
       "      <td>414801</td>\n",
       "      <td>Industrial Brooklyn Loft with Tree-Lined Windows</td>\n",
       "      <td>319077</td>\n",
       "      <td>Shell</td>\n",
       "      <td>Brooklyn</td>\n",
       "      <td>Clinton Hill</td>\n",
       "      <td>40.68722</td>\n",
       "      <td>-73.96289</td>\n",
       "      <td>Entire home/apt</td>\n",
       "      <td>1</td>\n",
       "      <td>54</td>\n",
       "      <td>0.65</td>\n",
       "      <td>4</td>\n",
       "      <td>365</td>\n",
       "    </tr>\n",
       "    <tr>\n",
       "      <th>3</th>\n",
       "      <td>21815842</td>\n",
       "      <td>Spacious 2 bedroom in beautiful Clinton Hill</td>\n",
       "      <td>1931990</td>\n",
       "      <td>Yarden</td>\n",
       "      <td>Brooklyn</td>\n",
       "      <td>Clinton Hill</td>\n",
       "      <td>40.68859</td>\n",
       "      <td>-73.96035</td>\n",
       "      <td>Entire home/apt</td>\n",
       "      <td>3</td>\n",
       "      <td>2</td>\n",
       "      <td>0.13</td>\n",
       "      <td>1</td>\n",
       "      <td>0</td>\n",
       "    </tr>\n",
       "    <tr>\n",
       "      <th>4</th>\n",
       "      <td>13576581</td>\n",
       "      <td>Modern Central Park Apartment close to everything</td>\n",
       "      <td>78325795</td>\n",
       "      <td>Bozhena</td>\n",
       "      <td>Manhattan</td>\n",
       "      <td>Harlem</td>\n",
       "      <td>40.80573</td>\n",
       "      <td>-73.94994</td>\n",
       "      <td>Entire home/apt</td>\n",
       "      <td>1</td>\n",
       "      <td>160</td>\n",
       "      <td>4.31</td>\n",
       "      <td>3</td>\n",
       "      <td>246</td>\n",
       "    </tr>\n",
       "  </tbody>\n",
       "</table>\n",
       "</div>"
      ],
      "text/plain": [
       "         id                                               name   host_id  \\\n",
       "0  30913224  Cozy and Sunny Room Williamsburg, Luxury Building  33771081   \n",
       "1    971247                   Sunny Artist Live/Work Apartment   5308961   \n",
       "2    414801   Industrial Brooklyn Loft with Tree-Lined Windows    319077   \n",
       "3  21815842       Spacious 2 bedroom in beautiful Clinton Hill   1931990   \n",
       "4  13576581  Modern Central Park Apartment close to everything  78325795   \n",
       "\n",
       "  host_name neighbourhood_group    neighbourhood  latitude  longitude  \\\n",
       "0      Rémy            Brooklyn     Williamsburg  40.70959  -73.94652   \n",
       "1     Larry           Manhattan  Upper West Side  40.79368  -73.96487   \n",
       "2     Shell            Brooklyn     Clinton Hill  40.68722  -73.96289   \n",
       "3    Yarden            Brooklyn     Clinton Hill  40.68859  -73.96035   \n",
       "4   Bozhena           Manhattan           Harlem  40.80573  -73.94994   \n",
       "\n",
       "         room_type  minimum_nights  number_of_reviews  reviews_per_month  \\\n",
       "0     Private room               3                  2               0.31   \n",
       "1  Entire home/apt               3                159               2.09   \n",
       "2  Entire home/apt               1                 54               0.65   \n",
       "3  Entire home/apt               3                  2               0.13   \n",
       "4  Entire home/apt               1                160               4.31   \n",
       "\n",
       "   calculated_host_listings_count  availability_365  \n",
       "0                               1                 0  \n",
       "1                               1               244  \n",
       "2                               4               365  \n",
       "3                               1                 0  \n",
       "4                               3               246  "
      ]
     },
     "metadata": {},
     "output_type": "display_data"
    }
   ],
   "source": [
    "# 결측치 채우기\n",
    "train['reviews_per_month'] = train['reviews_per_month'].fillna(0)\n",
    "test['reviews_per_month'] = test['reviews_per_month'].fillna(0)\n",
    "display(train.head(5))\n",
    "display(test.head(5))"
   ]
  },
  {
   "cell_type": "code",
   "execution_count": 13,
   "id": "36f2accd-62ed-4d40-892b-6353eed0603c",
   "metadata": {},
   "outputs": [
    {
     "data": {
      "text/plain": [
       "id                                0\n",
       "name                              4\n",
       "host_id                           0\n",
       "host_name                         4\n",
       "neighbourhood_group               0\n",
       "neighbourhood                     0\n",
       "latitude                          0\n",
       "longitude                         0\n",
       "room_type                         0\n",
       "minimum_nights                    0\n",
       "number_of_reviews                 0\n",
       "reviews_per_month                 0\n",
       "calculated_host_listings_count    0\n",
       "availability_365                  0\n",
       "dtype: int64"
      ]
     },
     "execution_count": 13,
     "metadata": {},
     "output_type": "execute_result"
    }
   ],
   "source": [
    "# 결측치 확인\n",
    "# 결측치(train,test)\n",
    "# train.isnull().sum()\n",
    "test.isnull().sum()"
   ]
  },
  {
   "cell_type": "code",
   "execution_count": 14,
   "id": "ff0330c1-2f19-44d6-bc1e-3eb14bc006e6",
   "metadata": {},
   "outputs": [
    {
     "data": {
      "text/plain": [
       "0         70\n",
       "1        240\n",
       "2        150\n",
       "3         85\n",
       "4         44\n",
       "        ... \n",
       "39111    185\n",
       "39112     50\n",
       "39113    120\n",
       "39114    165\n",
       "39115    200\n",
       "Name: price, Length: 39116, dtype: int64"
      ]
     },
     "execution_count": 14,
     "metadata": {},
     "output_type": "execute_result"
    }
   ],
   "source": [
    "# 가격 값 복사\n",
    "target = train['price']\n",
    "train = train.drop('price',axis=1)\n",
    "target"
   ]
  },
  {
   "cell_type": "code",
   "execution_count": 15,
   "id": "dcbd0077-a4d8-44af-81c1-d5122c41a29a",
   "metadata": {},
   "outputs": [],
   "source": [
    "# 수치형 피처 선택\n",
    "cols = ['host_id','latitude','longitude','minimum_nights','number_of_reviews','reviews_per_month','calculated_host_listings_count','availability_365']\n",
    "\n",
    "train = train[cols]\n",
    "test = test[cols]"
   ]
  },
  {
   "cell_type": "code",
   "execution_count": 16,
   "id": "62127160-0d95-4e67-b624-4e7a3b5fc5f3",
   "metadata": {},
   "outputs": [
    {
     "data": {
      "text/plain": [
       "array([[ 0.33596162,  1.33623237, -0.12264396, -0.19648978, -0.45466454,\n",
       "        -0.62593247, -0.15586784, -0.85804341],\n",
       "       [-0.23760212,  0.57840407, -0.82054334, -0.24572646,  0.91339816,\n",
       "         0.36735072, -0.15586784,  1.13174   ],\n",
       "       [-0.85393972,  0.02131769, -1.15406805,  2.61000076, -0.49951905,\n",
       "        -0.55721477, -0.18648566, -0.85804341]])"
      ]
     },
     "execution_count": 16,
     "metadata": {},
     "output_type": "execute_result"
    }
   ],
   "source": [
    "from sklearn.preprocessing import StandardScaler\n",
    "scaler = StandardScaler()\n",
    "train_s = scaler.fit_transform(train)\n",
    "train_s[:3]"
   ]
  },
  {
   "cell_type": "code",
   "execution_count": 17,
   "id": "9d7f5bbd-65cf-45e8-add0-59d423c29abc",
   "metadata": {},
   "outputs": [
    {
     "data": {
      "text/plain": [
       "array([[-0.42887607, -0.36157264,  0.12848508, -0.19664438, -0.47934399,\n",
       "        -0.49057548, -0.18646111, -0.85216108],\n",
       "       [-0.79474915,  1.17700898, -0.27606734, -0.19664438,  3.05701859,\n",
       "         0.63370084, -0.18646111,  1.00460903],\n",
       "       [-0.8588928 , -0.77087304, -0.23241537, -0.29057684,  0.69193533,\n",
       "        -0.27582607, -0.09846469,  1.92538437]])"
      ]
     },
     "execution_count": 17,
     "metadata": {},
     "output_type": "execute_result"
    }
   ],
   "source": [
    "test_s = scaler.fit_transform(test)\n",
    "test_s[:3]"
   ]
  },
  {
   "cell_type": "code",
   "execution_count": 18,
   "id": "1dd9a245-9ef2-44f4-80eb-089a2d726e2d",
   "metadata": {},
   "outputs": [
    {
     "data": {
      "text/plain": [
       "((29337, 8), (9779, 8), (29337,), (9779,))"
      ]
     },
     "execution_count": 18,
     "metadata": {},
     "output_type": "execute_result"
    }
   ],
   "source": [
    "# 검증 데이터 분리\n",
    "from sklearn.model_selection import train_test_split\n",
    "\n",
    "X_train, X_val, y_train, y_val = train_test_split(train_s, target, test_size=0.25, random_state=2022)\n",
    "X_train.shape, X_val.shape, y_train.shape, y_val.shape"
   ]
  },
  {
   "cell_type": "code",
   "execution_count": 19,
   "id": "39ff9b9c-1661-4de3-baab-ec9bae227a85",
   "metadata": {},
   "outputs": [
    {
     "data": {
      "text/plain": [
       "33046.03936771661"
      ]
     },
     "execution_count": 19,
     "metadata": {},
     "output_type": "execute_result"
    }
   ],
   "source": [
    "# 머신러닝(회귀)\n",
    "from sklearn.linear_model import LinearRegression\n",
    "from sklearn.metrics import mean_squared_error\n",
    "\n",
    "model = LinearRegression()\n",
    "model.fit(X_train, y_train)\n",
    "pred = model.predict(X_val)\n",
    "mean_squared_error(y_val, pred)"
   ]
  },
  {
   "cell_type": "code",
   "execution_count": 20,
   "id": "76950238-cdeb-4fe4-b0be-2fc96fbbde1d",
   "metadata": {},
   "outputs": [
    {
     "data": {
      "text/plain": [
       "33046.04289740905"
      ]
     },
     "execution_count": 20,
     "metadata": {},
     "output_type": "execute_result"
    }
   ],
   "source": [
    "# 릿지 회귀\n",
    "from sklearn.linear_model import Ridge\n",
    "\n",
    "model = Ridge()\n",
    "model.fit(X_train, y_train)\n",
    "pred = model.predict(X_val)\n",
    "mean_squared_error(y_val, pred)"
   ]
  },
  {
   "cell_type": "code",
   "execution_count": 21,
   "id": "a6f1efdc-58e6-43e3-b912-9ce2e6e10553",
   "metadata": {},
   "outputs": [
    {
     "data": {
      "text/plain": [
       "33040.797586427834"
      ]
     },
     "execution_count": 21,
     "metadata": {},
     "output_type": "execute_result"
    }
   ],
   "source": [
    "# 라쏘 회귀\n",
    "from sklearn.linear_model import Lasso\n",
    "\n",
    "model_L = Lasso()\n",
    "model_L.fit(X_train, y_train)\n",
    "pred = model_L.predict(X_val)\n",
    "mean_squared_error(y_val, pred)"
   ]
  },
  {
   "cell_type": "code",
   "execution_count": 22,
   "id": "98aa5c13-3958-4353-bcd2-2082cee1dcd5",
   "metadata": {},
   "outputs": [
    {
     "data": {
      "text/plain": [
       "33337.786249803445"
      ]
     },
     "execution_count": 22,
     "metadata": {},
     "output_type": "execute_result"
    }
   ],
   "source": [
    "# 엘라스틱넷 회귀\n",
    "from sklearn.linear_model import ElasticNet\n",
    "\n",
    "model_E = ElasticNet()\n",
    "model_E.fit(X_train, y_train)\n",
    "pred = model_E.predict(X_val)\n",
    "mean_squared_error(y_val, pred)"
   ]
  },
  {
   "cell_type": "code",
   "execution_count": 23,
   "id": "343a0086-cb44-45b4-8fea-563a3bc77c65",
   "metadata": {},
   "outputs": [
    {
     "data": {
      "text/plain": [
       "33593.104802965536"
      ]
     },
     "execution_count": 23,
     "metadata": {},
     "output_type": "execute_result"
    }
   ],
   "source": [
    "# 랜덤포레스트\n",
    "from sklearn.ensemble import RandomForestRegressor\n",
    "\n",
    "model_Ran = RandomForestRegressor(random_state = 2022)\n",
    "model_Ran.fit(X_train, y_train)\n",
    "pred = model_Ran.predict(X_val)\n",
    "mean_squared_error(y_val, pred)"
   ]
  },
  {
   "cell_type": "code",
   "execution_count": 24,
   "id": "84438d04-1dc8-477b-804d-1449d865305b",
   "metadata": {},
   "outputs": [
    {
     "name": "stderr",
     "output_type": "stream",
     "text": [
      "C:\\Users\\Desk_Kang\\AppData\\Local\\Programs\\Python\\Python312\\Lib\\site-packages\\xgboost\\data.py:520: FutureWarning: is_sparse is deprecated and will be removed in a future version. Check `isinstance(dtype, pd.SparseDtype)` instead.\n",
      "  if is_sparse(data):\n"
     ]
    },
    {
     "data": {
      "text/plain": [
       "37454.47301326349"
      ]
     },
     "execution_count": 24,
     "metadata": {},
     "output_type": "execute_result"
    }
   ],
   "source": [
    "# Xgboost\n",
    "from xgboost import XGBRegressor\n",
    "\n",
    "model_x = XGBRegressor()\n",
    "model_x.fit(X_train, y_train)\n",
    "pred = model_x.predict(X_val)\n",
    "mean_squared_error(y_val, pred)"
   ]
  },
  {
   "cell_type": "code",
   "execution_count": 25,
   "id": "d2890f49-9f44-4f9b-a414-0a955da7c4a6",
   "metadata": {},
   "outputs": [
    {
     "name": "stderr",
     "output_type": "stream",
     "text": [
      "C:\\Users\\Desk_Kang\\AppData\\Local\\Programs\\Python\\Python312\\Lib\\site-packages\\xgboost\\data.py:520: FutureWarning: is_sparse is deprecated and will be removed in a future version. Check `isinstance(dtype, pd.SparseDtype)` instead.\n",
      "  if is_sparse(data):\n"
     ]
    },
    {
     "data": {
      "text/plain": [
       "31201.78974513534"
      ]
     },
     "execution_count": 25,
     "metadata": {},
     "output_type": "execute_result"
    }
   ],
   "source": [
    "# Xgboost\n",
    "from xgboost import XGBRegressor\n",
    "\n",
    "model_xgb = XGBRegressor(learning_rate = 0.02, max_depth = 5, subsample = 0.9, n_estimators = 500)\n",
    "model_xgb.fit(X_train, y_train)\n",
    "pred = model_xgb.predict(X_val)\n",
    "mean_squared_error(y_val, pred)"
   ]
  },
  {
   "cell_type": "code",
   "execution_count": 26,
   "id": "df66dafd-6fb6-4583-b060-49e9b3eba3a9",
   "metadata": {},
   "outputs": [],
   "source": [
    "# test 데이터 예측 및 평가\n",
    "y_test = pd.read_csv('C:/Users/Desk_Kang/Downloads/y_test.csv')\n",
    "y_test_s = scaler.fit_transform(y_test)"
   ]
  },
  {
   "cell_type": "code",
   "execution_count": 27,
   "id": "adf61271-11d7-426e-afa1-cd39c80f74a3",
   "metadata": {},
   "outputs": [
    {
     "data": {
      "text/plain": [
       "50447.36506066074"
      ]
     },
     "execution_count": 27,
     "metadata": {},
     "output_type": "execute_result"
    }
   ],
   "source": [
    "# x\n",
    "pred = model_x.predict(test_s)\n",
    "mean_squared_error(y_test_s, pred)"
   ]
  },
  {
   "cell_type": "code",
   "execution_count": 28,
   "id": "1101a914-b0f4-47db-b5e7-a8e4f36f3472",
   "metadata": {},
   "outputs": [
    {
     "data": {
      "text/plain": [
       "25676.739996170338"
      ]
     },
     "execution_count": 28,
     "metadata": {},
     "output_type": "execute_result"
    }
   ],
   "source": [
    "# R\n",
    "pred = model_L.predict(test_s)\n",
    "mean_squared_error(y_test_s, pred)"
   ]
  },
  {
   "cell_type": "code",
   "execution_count": 29,
   "id": "a6d2b11a-fa04-4e54-8575-d80dfbb16356",
   "metadata": {},
   "outputs": [
    {
     "data": {
      "text/plain": [
       "24597.845569570087"
      ]
     },
     "execution_count": 29,
     "metadata": {},
     "output_type": "execute_result"
    }
   ],
   "source": [
    "# E\n",
    "pred = model_E.predict(test_s)\n",
    "mean_squared_error(y_test_s, pred)"
   ]
  },
  {
   "cell_type": "code",
   "execution_count": 30,
   "id": "cbc813a5-58ca-461f-9b80-62f8524c51e3",
   "metadata": {},
   "outputs": [
    {
     "data": {
      "text/plain": [
       "45789.9263824586"
      ]
     },
     "execution_count": 30,
     "metadata": {},
     "output_type": "execute_result"
    }
   ],
   "source": [
    "# Ran\n",
    "pred = model_Ran.predict(test_s)\n",
    "mean_squared_error(y_test_s, pred)"
   ]
  },
  {
   "cell_type": "code",
   "execution_count": 34,
   "id": "4b9f98d4-1b05-4c4b-90eb-ddc6cc7715af",
   "metadata": {},
   "outputs": [
    {
     "data": {
      "text/plain": [
       "39139.11544531593"
      ]
     },
     "execution_count": 34,
     "metadata": {},
     "output_type": "execute_result"
    }
   ],
   "source": [
    "# xgb\n",
    "pred = model_xgb.predict(test_s)\n",
    "mean_squared_error(y_test_s, pred)"
   ]
  },
  {
   "cell_type": "code",
   "execution_count": 32,
   "id": "df632549-957a-4e3e-b381-15d96ff04d3e",
   "metadata": {},
   "outputs": [],
   "source": [
    "#x는 베이스라인의 MSE 점수 xgb는 로컬에서 랜덤서치로 구한 파라미터를 통하여 계산한 결과"
   ]
  },
  {
   "cell_type": "code",
   "execution_count": 33,
   "id": "73a797d9-7c6a-4c47-ac01-6fd3e1c4a544",
   "metadata": {},
   "outputs": [],
   "source": [
    "#수치형 데이터를 스탠다드 스케일링 하고 난후의 MSE 데이터가 더 뛰어남"
   ]
  }
 ],
 "metadata": {
  "kernelspec": {
   "display_name": "Python 3 (ipykernel)",
   "language": "python",
   "name": "python3"
  },
  "language_info": {
   "codemirror_mode": {
    "name": "ipython",
    "version": 3
   },
   "file_extension": ".py",
   "mimetype": "text/x-python",
   "name": "python",
   "nbconvert_exporter": "python",
   "pygments_lexer": "ipython3",
   "version": "3.12.0"
  }
 },
 "nbformat": 4,
 "nbformat_minor": 5
}
