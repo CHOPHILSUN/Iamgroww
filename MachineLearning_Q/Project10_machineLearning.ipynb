{
  "cells": [
    {
      "cell_type": "markdown",
      "metadata": {
        "id": "view-in-github",
        "colab_type": "text"
      },
      "source": [
        "<a href=\"https://colab.research.google.com/github/knggu/Iamgroww/blob/main/Project10_machineLearning.ipynb\" target=\"_parent\"><img src=\"https://colab.research.google.com/assets/colab-badge.svg\" alt=\"Open In Colab\"/></a>"
      ]
    },
    {
      "cell_type": "code",
      "execution_count": null,
      "id": "a6269a6a",
      "metadata": {
        "id": "a6269a6a"
      },
      "outputs": [],
      "source": [
        "# 라이브러리\n",
        "import pandas as pd\n"
      ]
    },
    {
      "cell_type": "code",
      "execution_count": null,
      "id": "fbcc36dc",
      "metadata": {
        "id": "fbcc36dc"
      },
      "outputs": [],
      "source": [
        "# 데이터 불러오기\n",
        "train = pd.read_csv('/aiffel/data/train.csv')\n",
        "test = pd.read_csv('/aiffel/data/test.csv')"
      ]
    },
    {
      "cell_type": "code",
      "execution_count": null,
      "id": "f942634f",
      "metadata": {
        "id": "f942634f",
        "outputId": "45405244-ead5-45d7-b62f-063c7bd892da"
      },
      "outputs": [
        {
          "data": {
            "text/plain": [
              "((39116, 16), (9779, 15))"
            ]
          },
          "execution_count": 3,
          "metadata": {},
          "output_type": "execute_result"
        }
      ],
      "source": [
        "# 데이터 크기\n",
        "train.shape, test.shape"
      ]
    },
    {
      "cell_type": "code",
      "execution_count": null,
      "id": "b4b47b7b",
      "metadata": {
        "scrolled": true,
        "id": "b4b47b7b",
        "outputId": "dd53cf0e-fb89-4a17-921d-aad1606a01ca"
      },
      "outputs": [
        {
          "data": {
            "text/html": [
              "<div>\n",
              "<style scoped>\n",
              "    .dataframe tbody tr th:only-of-type {\n",
              "        vertical-align: middle;\n",
              "    }\n",
              "\n",
              "    .dataframe tbody tr th {\n",
              "        vertical-align: top;\n",
              "    }\n",
              "\n",
              "    .dataframe thead th {\n",
              "        text-align: right;\n",
              "    }\n",
              "</style>\n",
              "<table border=\"1\" class=\"dataframe\">\n",
              "  <thead>\n",
              "    <tr style=\"text-align: right;\">\n",
              "      <th></th>\n",
              "      <th>id</th>\n",
              "      <th>name</th>\n",
              "      <th>host_id</th>\n",
              "      <th>host_name</th>\n",
              "      <th>neighbourhood_group</th>\n",
              "      <th>neighbourhood</th>\n",
              "      <th>latitude</th>\n",
              "      <th>longitude</th>\n",
              "      <th>room_type</th>\n",
              "      <th>price</th>\n",
              "      <th>minimum_nights</th>\n",
              "      <th>number_of_reviews</th>\n",
              "      <th>last_review</th>\n",
              "      <th>reviews_per_month</th>\n",
              "      <th>calculated_host_listings_count</th>\n",
              "      <th>availability_365</th>\n",
              "    </tr>\n",
              "  </thead>\n",
              "  <tbody>\n",
              "    <tr>\n",
              "      <th>0</th>\n",
              "      <td>14963583</td>\n",
              "      <td>Room in South Harlem near Central Park</td>\n",
              "      <td>94219511</td>\n",
              "      <td>Gilles</td>\n",
              "      <td>Manhattan</td>\n",
              "      <td>Harlem</td>\n",
              "      <td>40.80167</td>\n",
              "      <td>-73.95781</td>\n",
              "      <td>Private room</td>\n",
              "      <td>70</td>\n",
              "      <td>3</td>\n",
              "      <td>3</td>\n",
              "      <td>2019-01-01</td>\n",
              "      <td>0.09</td>\n",
              "      <td>2</td>\n",
              "      <td>0</td>\n",
              "    </tr>\n",
              "    <tr>\n",
              "      <th>1</th>\n",
              "      <td>9458704</td>\n",
              "      <td>Large 1BR Apartment, near Times Sq (2nd Floor)</td>\n",
              "      <td>49015331</td>\n",
              "      <td>Iradj</td>\n",
              "      <td>Manhattan</td>\n",
              "      <td>Hell's Kitchen</td>\n",
              "      <td>40.76037</td>\n",
              "      <td>-73.99016</td>\n",
              "      <td>Entire home/apt</td>\n",
              "      <td>240</td>\n",
              "      <td>2</td>\n",
              "      <td>64</td>\n",
              "      <td>2019-06-30</td>\n",
              "      <td>1.68</td>\n",
              "      <td>2</td>\n",
              "      <td>262</td>\n",
              "    </tr>\n",
              "  </tbody>\n",
              "</table>\n",
              "</div>"
            ],
            "text/plain": [
              "         id                                            name   host_id  \\\n",
              "0  14963583          Room in South Harlem near Central Park  94219511   \n",
              "1   9458704  Large 1BR Apartment, near Times Sq (2nd Floor)  49015331   \n",
              "\n",
              "  host_name neighbourhood_group   neighbourhood  latitude  longitude  \\\n",
              "0    Gilles           Manhattan          Harlem  40.80167  -73.95781   \n",
              "1     Iradj           Manhattan  Hell's Kitchen  40.76037  -73.99016   \n",
              "\n",
              "         room_type  price  minimum_nights  number_of_reviews last_review  \\\n",
              "0     Private room     70               3                  3  2019-01-01   \n",
              "1  Entire home/apt    240               2                 64  2019-06-30   \n",
              "\n",
              "   reviews_per_month  calculated_host_listings_count  availability_365  \n",
              "0               0.09                               2                 0  \n",
              "1               1.68                               2               262  "
            ]
          },
          "metadata": {},
          "output_type": "display_data"
        },
        {
          "data": {
            "text/html": [
              "<div>\n",
              "<style scoped>\n",
              "    .dataframe tbody tr th:only-of-type {\n",
              "        vertical-align: middle;\n",
              "    }\n",
              "\n",
              "    .dataframe tbody tr th {\n",
              "        vertical-align: top;\n",
              "    }\n",
              "\n",
              "    .dataframe thead th {\n",
              "        text-align: right;\n",
              "    }\n",
              "</style>\n",
              "<table border=\"1\" class=\"dataframe\">\n",
              "  <thead>\n",
              "    <tr style=\"text-align: right;\">\n",
              "      <th></th>\n",
              "      <th>id</th>\n",
              "      <th>name</th>\n",
              "      <th>host_id</th>\n",
              "      <th>host_name</th>\n",
              "      <th>neighbourhood_group</th>\n",
              "      <th>neighbourhood</th>\n",
              "      <th>latitude</th>\n",
              "      <th>longitude</th>\n",
              "      <th>room_type</th>\n",
              "      <th>minimum_nights</th>\n",
              "      <th>number_of_reviews</th>\n",
              "      <th>last_review</th>\n",
              "      <th>reviews_per_month</th>\n",
              "      <th>calculated_host_listings_count</th>\n",
              "      <th>availability_365</th>\n",
              "    </tr>\n",
              "  </thead>\n",
              "  <tbody>\n",
              "    <tr>\n",
              "      <th>0</th>\n",
              "      <td>30913224</td>\n",
              "      <td>Cozy and Sunny Room Williamsburg, Luxury Building</td>\n",
              "      <td>33771081</td>\n",
              "      <td>Rémy</td>\n",
              "      <td>Brooklyn</td>\n",
              "      <td>Williamsburg</td>\n",
              "      <td>40.70959</td>\n",
              "      <td>-73.94652</td>\n",
              "      <td>Private room</td>\n",
              "      <td>3</td>\n",
              "      <td>2</td>\n",
              "      <td>2019-05-08</td>\n",
              "      <td>0.31</td>\n",
              "      <td>1</td>\n",
              "      <td>0</td>\n",
              "    </tr>\n",
              "    <tr>\n",
              "      <th>1</th>\n",
              "      <td>971247</td>\n",
              "      <td>Sunny Artist Live/Work Apartment</td>\n",
              "      <td>5308961</td>\n",
              "      <td>Larry</td>\n",
              "      <td>Manhattan</td>\n",
              "      <td>Upper West Side</td>\n",
              "      <td>40.79368</td>\n",
              "      <td>-73.96487</td>\n",
              "      <td>Entire home/apt</td>\n",
              "      <td>3</td>\n",
              "      <td>159</td>\n",
              "      <td>2019-07-03</td>\n",
              "      <td>2.09</td>\n",
              "      <td>1</td>\n",
              "      <td>244</td>\n",
              "    </tr>\n",
              "  </tbody>\n",
              "</table>\n",
              "</div>"
            ],
            "text/plain": [
              "         id                                               name   host_id  \\\n",
              "0  30913224  Cozy and Sunny Room Williamsburg, Luxury Building  33771081   \n",
              "1    971247                   Sunny Artist Live/Work Apartment   5308961   \n",
              "\n",
              "  host_name neighbourhood_group    neighbourhood  latitude  longitude  \\\n",
              "0      Rémy            Brooklyn     Williamsburg  40.70959  -73.94652   \n",
              "1     Larry           Manhattan  Upper West Side  40.79368  -73.96487   \n",
              "\n",
              "         room_type  minimum_nights  number_of_reviews last_review  \\\n",
              "0     Private room               3                  2  2019-05-08   \n",
              "1  Entire home/apt               3                159  2019-07-03   \n",
              "\n",
              "   reviews_per_month  calculated_host_listings_count  availability_365  \n",
              "0               0.31                               1                 0  \n",
              "1               2.09                               1               244  "
            ]
          },
          "metadata": {},
          "output_type": "display_data"
        }
      ],
      "source": [
        "# 데이터 샘플\n",
        "display(train.head(2))\n",
        "display(test.head(2))"
      ]
    },
    {
      "cell_type": "code",
      "execution_count": null,
      "id": "3d4d3a68",
      "metadata": {
        "id": "3d4d3a68",
        "outputId": "91510f91-220e-4b62-e356-d109a1a35b37"
      },
      "outputs": [
        {
          "name": "stdout",
          "output_type": "stream",
          "text": [
            "<class 'pandas.core.frame.DataFrame'>\n",
            "RangeIndex: 39116 entries, 0 to 39115\n",
            "Data columns (total 16 columns):\n",
            " #   Column                          Non-Null Count  Dtype  \n",
            "---  ------                          --------------  -----  \n",
            " 0   id                              39116 non-null  int64  \n",
            " 1   name                            39104 non-null  object \n",
            " 2   host_id                         39116 non-null  int64  \n",
            " 3   host_name                       39099 non-null  object \n",
            " 4   neighbourhood_group             39116 non-null  object \n",
            " 5   neighbourhood                   39116 non-null  object \n",
            " 6   latitude                        39116 non-null  float64\n",
            " 7   longitude                       39116 non-null  float64\n",
            " 8   room_type                       39116 non-null  object \n",
            " 9   price                           39116 non-null  int64  \n",
            " 10  minimum_nights                  39116 non-null  int64  \n",
            " 11  number_of_reviews               39116 non-null  int64  \n",
            " 12  last_review                     31122 non-null  object \n",
            " 13  reviews_per_month               31122 non-null  float64\n",
            " 14  calculated_host_listings_count  39116 non-null  int64  \n",
            " 15  availability_365                39116 non-null  int64  \n",
            "dtypes: float64(3), int64(7), object(6)\n",
            "memory usage: 4.8+ MB\n"
          ]
        }
      ],
      "source": [
        "# 데이터 타입\n",
        "train.info()"
      ]
    },
    {
      "cell_type": "code",
      "execution_count": null,
      "id": "c3a837dc",
      "metadata": {
        "id": "c3a837dc",
        "outputId": "8aa923d8-f3c5-4f57-e882-3aae6bd08fb3"
      },
      "outputs": [
        {
          "data": {
            "text/plain": [
              "id                                   0\n",
              "name                                12\n",
              "host_id                              0\n",
              "host_name                           17\n",
              "neighbourhood_group                  0\n",
              "neighbourhood                        0\n",
              "latitude                             0\n",
              "longitude                            0\n",
              "room_type                            0\n",
              "price                                0\n",
              "minimum_nights                       0\n",
              "number_of_reviews                    0\n",
              "last_review                       7994\n",
              "reviews_per_month                 7994\n",
              "calculated_host_listings_count       0\n",
              "availability_365                     0\n",
              "dtype: int64"
            ]
          },
          "execution_count": 6,
          "metadata": {},
          "output_type": "execute_result"
        }
      ],
      "source": [
        "# 결측치(train)\n",
        "train.isnull().sum()"
      ]
    },
    {
      "cell_type": "code",
      "execution_count": null,
      "id": "5779a9b0",
      "metadata": {
        "id": "5779a9b0",
        "outputId": "8cef7123-9c3d-4937-fde4-f5094ba0770e"
      },
      "outputs": [
        {
          "data": {
            "text/plain": [
              "id                                   0\n",
              "name                                 4\n",
              "host_id                              0\n",
              "host_name                            4\n",
              "neighbourhood_group                  0\n",
              "neighbourhood                        0\n",
              "latitude                             0\n",
              "longitude                            0\n",
              "room_type                            0\n",
              "minimum_nights                       0\n",
              "number_of_reviews                    0\n",
              "last_review                       2058\n",
              "reviews_per_month                 2058\n",
              "calculated_host_listings_count       0\n",
              "availability_365                     0\n",
              "dtype: int64"
            ]
          },
          "execution_count": 7,
          "metadata": {},
          "output_type": "execute_result"
        }
      ],
      "source": [
        "# 결측치(test)\n",
        "test.isnull().sum()"
      ]
    },
    {
      "cell_type": "code",
      "execution_count": null,
      "id": "83c1a00b",
      "metadata": {
        "id": "83c1a00b",
        "outputId": "4f1ccba6-1301-4f9f-cecf-ca1591d38568"
      },
      "outputs": [
        {
          "data": {
            "text/plain": [
              "<AxesSubplot:>"
            ]
          },
          "execution_count": 8,
          "metadata": {},
          "output_type": "execute_result"
        },
        {
          "data": {
            "image/png": "[encoded data removed]",
            "text/plain": [
              "<Figure size 432x288 with 1 Axes>"
            ]
          },
          "metadata": {
            "needs_background": "light"
          },
          "output_type": "display_data"
        }
      ],
      "source": [
        "# target(hist)\n",
        "train['price'].hist(bins=100)"
      ]
    },
    {
      "cell_type": "code",
      "execution_count": null,
      "id": "eccb8976",
      "metadata": {
        "scrolled": true,
        "id": "eccb8976",
        "outputId": "99676525-0cf1-44b0-ac29-c2e518c93e91"
      },
      "outputs": [
        {
          "data": {
            "text/plain": [
              "count    39116.000000\n",
              "mean       152.751150\n",
              "std        241.752501\n",
              "min          0.000000\n",
              "25%         69.000000\n",
              "50%        105.000000\n",
              "75%        175.000000\n",
              "max      10000.000000\n",
              "Name: price, dtype: float64"
            ]
          },
          "execution_count": 9,
          "metadata": {},
          "output_type": "execute_result"
        }
      ],
      "source": [
        "# target(describe)\n",
        "train['price'].describe()"
      ]
    },
    {
      "cell_type": "code",
      "execution_count": null,
      "id": "2ed38e16",
      "metadata": {
        "scrolled": true,
        "id": "2ed38e16",
        "outputId": "b5609fb7-2ea2-4289-f821-c3d798cf43c1"
      },
      "outputs": [
        {
          "data": {
            "text/plain": [
              "219517861    256\n",
              "107434423    181\n",
              "30283594      99\n",
              "137358866     82\n",
              "12243051      80\n",
              "            ... \n",
              "73369106       1\n",
              "26620387       1\n",
              "176660539      1\n",
              "26004891       1\n",
              "2609535        1\n",
              "Name: host_id, Length: 30845, dtype: int64"
            ]
          },
          "execution_count": 10,
          "metadata": {},
          "output_type": "execute_result"
        }
      ],
      "source": [
        "# 피처(host_id)\n",
        "train['host_id'].value_counts()"
      ]
    },
    {
      "cell_type": "code",
      "execution_count": null,
      "id": "5285d137",
      "metadata": {
        "id": "5285d137",
        "outputId": "81afb9ab-0a73-45c2-e43a-8d1198d5cde9"
      },
      "outputs": [
        {
          "data": {
            "text/html": [
              "<div>\n",
              "<style scoped>\n",
              "    .dataframe tbody tr th:only-of-type {\n",
              "        vertical-align: middle;\n",
              "    }\n",
              "\n",
              "    .dataframe tbody tr th {\n",
              "        vertical-align: top;\n",
              "    }\n",
              "\n",
              "    .dataframe thead th {\n",
              "        text-align: right;\n",
              "    }\n",
              "</style>\n",
              "<table border=\"1\" class=\"dataframe\">\n",
              "  <thead>\n",
              "    <tr style=\"text-align: right;\">\n",
              "      <th></th>\n",
              "      <th>id</th>\n",
              "      <th>name</th>\n",
              "      <th>host_id</th>\n",
              "      <th>host_name</th>\n",
              "      <th>neighbourhood_group</th>\n",
              "      <th>neighbourhood</th>\n",
              "      <th>latitude</th>\n",
              "      <th>longitude</th>\n",
              "      <th>room_type</th>\n",
              "      <th>price</th>\n",
              "      <th>minimum_nights</th>\n",
              "      <th>number_of_reviews</th>\n",
              "      <th>reviews_per_month</th>\n",
              "      <th>calculated_host_listings_count</th>\n",
              "      <th>availability_365</th>\n",
              "    </tr>\n",
              "  </thead>\n",
              "  <tbody>\n",
              "    <tr>\n",
              "      <th>0</th>\n",
              "      <td>14963583</td>\n",
              "      <td>Room in South Harlem near Central Park</td>\n",
              "      <td>94219511</td>\n",
              "      <td>Gilles</td>\n",
              "      <td>Manhattan</td>\n",
              "      <td>Harlem</td>\n",
              "      <td>40.80167</td>\n",
              "      <td>-73.95781</td>\n",
              "      <td>Private room</td>\n",
              "      <td>70</td>\n",
              "      <td>3</td>\n",
              "      <td>3</td>\n",
              "      <td>0.09</td>\n",
              "      <td>2</td>\n",
              "      <td>0</td>\n",
              "    </tr>\n",
              "    <tr>\n",
              "      <th>1</th>\n",
              "      <td>9458704</td>\n",
              "      <td>Large 1BR Apartment, near Times Sq (2nd Floor)</td>\n",
              "      <td>49015331</td>\n",
              "      <td>Iradj</td>\n",
              "      <td>Manhattan</td>\n",
              "      <td>Hell's Kitchen</td>\n",
              "      <td>40.76037</td>\n",
              "      <td>-73.99016</td>\n",
              "      <td>Entire home/apt</td>\n",
              "      <td>240</td>\n",
              "      <td>2</td>\n",
              "      <td>64</td>\n",
              "      <td>1.68</td>\n",
              "      <td>2</td>\n",
              "      <td>262</td>\n",
              "    </tr>\n",
              "  </tbody>\n",
              "</table>\n",
              "</div>"
            ],
            "text/plain": [
              "         id                                            name   host_id  \\\n",
              "0  14963583          Room in South Harlem near Central Park  94219511   \n",
              "1   9458704  Large 1BR Apartment, near Times Sq (2nd Floor)  49015331   \n",
              "\n",
              "  host_name neighbourhood_group   neighbourhood  latitude  longitude  \\\n",
              "0    Gilles           Manhattan          Harlem  40.80167  -73.95781   \n",
              "1     Iradj           Manhattan  Hell's Kitchen  40.76037  -73.99016   \n",
              "\n",
              "         room_type  price  minimum_nights  number_of_reviews  \\\n",
              "0     Private room     70               3                  3   \n",
              "1  Entire home/apt    240               2                 64   \n",
              "\n",
              "   reviews_per_month  calculated_host_listings_count  availability_365  \n",
              "0               0.09                               2                 0  \n",
              "1               1.68                               2               262  "
            ]
          },
          "metadata": {},
          "output_type": "display_data"
        },
        {
          "data": {
            "text/html": [
              "<div>\n",
              "<style scoped>\n",
              "    .dataframe tbody tr th:only-of-type {\n",
              "        vertical-align: middle;\n",
              "    }\n",
              "\n",
              "    .dataframe tbody tr th {\n",
              "        vertical-align: top;\n",
              "    }\n",
              "\n",
              "    .dataframe thead th {\n",
              "        text-align: right;\n",
              "    }\n",
              "</style>\n",
              "<table border=\"1\" class=\"dataframe\">\n",
              "  <thead>\n",
              "    <tr style=\"text-align: right;\">\n",
              "      <th></th>\n",
              "      <th>id</th>\n",
              "      <th>name</th>\n",
              "      <th>host_id</th>\n",
              "      <th>host_name</th>\n",
              "      <th>neighbourhood_group</th>\n",
              "      <th>neighbourhood</th>\n",
              "      <th>latitude</th>\n",
              "      <th>longitude</th>\n",
              "      <th>room_type</th>\n",
              "      <th>minimum_nights</th>\n",
              "      <th>number_of_reviews</th>\n",
              "      <th>reviews_per_month</th>\n",
              "      <th>calculated_host_listings_count</th>\n",
              "      <th>availability_365</th>\n",
              "    </tr>\n",
              "  </thead>\n",
              "  <tbody>\n",
              "    <tr>\n",
              "      <th>0</th>\n",
              "      <td>30913224</td>\n",
              "      <td>Cozy and Sunny Room Williamsburg, Luxury Building</td>\n",
              "      <td>33771081</td>\n",
              "      <td>Rémy</td>\n",
              "      <td>Brooklyn</td>\n",
              "      <td>Williamsburg</td>\n",
              "      <td>40.70959</td>\n",
              "      <td>-73.94652</td>\n",
              "      <td>Private room</td>\n",
              "      <td>3</td>\n",
              "      <td>2</td>\n",
              "      <td>0.31</td>\n",
              "      <td>1</td>\n",
              "      <td>0</td>\n",
              "    </tr>\n",
              "    <tr>\n",
              "      <th>1</th>\n",
              "      <td>971247</td>\n",
              "      <td>Sunny Artist Live/Work Apartment</td>\n",
              "      <td>5308961</td>\n",
              "      <td>Larry</td>\n",
              "      <td>Manhattan</td>\n",
              "      <td>Upper West Side</td>\n",
              "      <td>40.79368</td>\n",
              "      <td>-73.96487</td>\n",
              "      <td>Entire home/apt</td>\n",
              "      <td>3</td>\n",
              "      <td>159</td>\n",
              "      <td>2.09</td>\n",
              "      <td>1</td>\n",
              "      <td>244</td>\n",
              "    </tr>\n",
              "  </tbody>\n",
              "</table>\n",
              "</div>"
            ],
            "text/plain": [
              "         id                                               name   host_id  \\\n",
              "0  30913224  Cozy and Sunny Room Williamsburg, Luxury Building  33771081   \n",
              "1    971247                   Sunny Artist Live/Work Apartment   5308961   \n",
              "\n",
              "  host_name neighbourhood_group    neighbourhood  latitude  longitude  \\\n",
              "0      Rémy            Brooklyn     Williamsburg  40.70959  -73.94652   \n",
              "1     Larry           Manhattan  Upper West Side  40.79368  -73.96487   \n",
              "\n",
              "         room_type  minimum_nights  number_of_reviews  reviews_per_month  \\\n",
              "0     Private room               3                  2               0.31   \n",
              "1  Entire home/apt               3                159               2.09   \n",
              "\n",
              "   calculated_host_listings_count  availability_365  \n",
              "0                               1                 0  \n",
              "1                               1               244  "
            ]
          },
          "metadata": {},
          "output_type": "display_data"
        }
      ],
      "source": [
        "#결측치 삭제 (last_review)\n",
        "train = train.drop('last_review', axis=1)\n",
        "test = test.drop('last_review', axis=1)\n",
        "display(train.head(2))\n",
        "display(test.head(2))"
      ]
    },
    {
      "cell_type": "code",
      "execution_count": null,
      "id": "e02b5094",
      "metadata": {
        "id": "e02b5094",
        "outputId": "d6112003-354e-40ce-dbea-10d36923cbb9"
      },
      "outputs": [
        {
          "data": {
            "text/html": [
              "<div>\n",
              "<style scoped>\n",
              "    .dataframe tbody tr th:only-of-type {\n",
              "        vertical-align: middle;\n",
              "    }\n",
              "\n",
              "    .dataframe tbody tr th {\n",
              "        vertical-align: top;\n",
              "    }\n",
              "\n",
              "    .dataframe thead th {\n",
              "        text-align: right;\n",
              "    }\n",
              "</style>\n",
              "<table border=\"1\" class=\"dataframe\">\n",
              "  <thead>\n",
              "    <tr style=\"text-align: right;\">\n",
              "      <th></th>\n",
              "      <th>id</th>\n",
              "      <th>name</th>\n",
              "      <th>host_id</th>\n",
              "      <th>host_name</th>\n",
              "      <th>neighbourhood_group</th>\n",
              "      <th>neighbourhood</th>\n",
              "      <th>latitude</th>\n",
              "      <th>longitude</th>\n",
              "      <th>room_type</th>\n",
              "      <th>price</th>\n",
              "      <th>minimum_nights</th>\n",
              "      <th>number_of_reviews</th>\n",
              "      <th>reviews_per_month</th>\n",
              "      <th>calculated_host_listings_count</th>\n",
              "      <th>availability_365</th>\n",
              "    </tr>\n",
              "  </thead>\n",
              "  <tbody>\n",
              "    <tr>\n",
              "      <th>0</th>\n",
              "      <td>14963583</td>\n",
              "      <td>Room in South Harlem near Central Park</td>\n",
              "      <td>94219511</td>\n",
              "      <td>Gilles</td>\n",
              "      <td>Manhattan</td>\n",
              "      <td>Harlem</td>\n",
              "      <td>40.80167</td>\n",
              "      <td>-73.95781</td>\n",
              "      <td>Private room</td>\n",
              "      <td>70</td>\n",
              "      <td>3</td>\n",
              "      <td>3</td>\n",
              "      <td>0.09</td>\n",
              "      <td>2</td>\n",
              "      <td>0</td>\n",
              "    </tr>\n",
              "    <tr>\n",
              "      <th>1</th>\n",
              "      <td>9458704</td>\n",
              "      <td>Large 1BR Apartment, near Times Sq (2nd Floor)</td>\n",
              "      <td>49015331</td>\n",
              "      <td>Iradj</td>\n",
              "      <td>Manhattan</td>\n",
              "      <td>Hell's Kitchen</td>\n",
              "      <td>40.76037</td>\n",
              "      <td>-73.99016</td>\n",
              "      <td>Entire home/apt</td>\n",
              "      <td>240</td>\n",
              "      <td>2</td>\n",
              "      <td>64</td>\n",
              "      <td>1.68</td>\n",
              "      <td>2</td>\n",
              "      <td>262</td>\n",
              "    </tr>\n",
              "    <tr>\n",
              "      <th>2</th>\n",
              "      <td>26871281</td>\n",
              "      <td>West Village Apartment</td>\n",
              "      <td>440022</td>\n",
              "      <td>Petter</td>\n",
              "      <td>Manhattan</td>\n",
              "      <td>West Village</td>\n",
              "      <td>40.73001</td>\n",
              "      <td>-74.00562</td>\n",
              "      <td>Entire home/apt</td>\n",
              "      <td>150</td>\n",
              "      <td>60</td>\n",
              "      <td>1</td>\n",
              "      <td>0.20</td>\n",
              "      <td>1</td>\n",
              "      <td>0</td>\n",
              "    </tr>\n",
              "    <tr>\n",
              "      <th>3</th>\n",
              "      <td>698132</td>\n",
              "      <td>LARGE PRIVATE FLOOR IN BROOKLYN, NY</td>\n",
              "      <td>3577509</td>\n",
              "      <td>Eric</td>\n",
              "      <td>Brooklyn</td>\n",
              "      <td>Bedford-Stuyvesant</td>\n",
              "      <td>40.69128</td>\n",
              "      <td>-73.93653</td>\n",
              "      <td>Entire home/apt</td>\n",
              "      <td>85</td>\n",
              "      <td>4</td>\n",
              "      <td>239</td>\n",
              "      <td>2.89</td>\n",
              "      <td>2</td>\n",
              "      <td>1</td>\n",
              "    </tr>\n",
              "    <tr>\n",
              "      <th>4</th>\n",
              "      <td>15783953</td>\n",
              "      <td>Sun-drenched apartment, 20 mins to Manhattan</td>\n",
              "      <td>12475280</td>\n",
              "      <td>George</td>\n",
              "      <td>Brooklyn</td>\n",
              "      <td>Bedford-Stuyvesant</td>\n",
              "      <td>40.68899</td>\n",
              "      <td>-73.95555</td>\n",
              "      <td>Private room</td>\n",
              "      <td>44</td>\n",
              "      <td>28</td>\n",
              "      <td>0</td>\n",
              "      <td>0.00</td>\n",
              "      <td>1</td>\n",
              "      <td>0</td>\n",
              "    </tr>\n",
              "  </tbody>\n",
              "</table>\n",
              "</div>"
            ],
            "text/plain": [
              "         id                                            name   host_id  \\\n",
              "0  14963583          Room in South Harlem near Central Park  94219511   \n",
              "1   9458704  Large 1BR Apartment, near Times Sq (2nd Floor)  49015331   \n",
              "2  26871281                          West Village Apartment    440022   \n",
              "3    698132             LARGE PRIVATE FLOOR IN BROOKLYN, NY   3577509   \n",
              "4  15783953    Sun-drenched apartment, 20 mins to Manhattan  12475280   \n",
              "\n",
              "  host_name neighbourhood_group       neighbourhood  latitude  longitude  \\\n",
              "0    Gilles           Manhattan              Harlem  40.80167  -73.95781   \n",
              "1     Iradj           Manhattan      Hell's Kitchen  40.76037  -73.99016   \n",
              "2    Petter           Manhattan        West Village  40.73001  -74.00562   \n",
              "3      Eric            Brooklyn  Bedford-Stuyvesant  40.69128  -73.93653   \n",
              "4    George            Brooklyn  Bedford-Stuyvesant  40.68899  -73.95555   \n",
              "\n",
              "         room_type  price  minimum_nights  number_of_reviews  \\\n",
              "0     Private room     70               3                  3   \n",
              "1  Entire home/apt    240               2                 64   \n",
              "2  Entire home/apt    150              60                  1   \n",
              "3  Entire home/apt     85               4                239   \n",
              "4     Private room     44              28                  0   \n",
              "\n",
              "   reviews_per_month  calculated_host_listings_count  availability_365  \n",
              "0               0.09                               2                 0  \n",
              "1               1.68                               2               262  \n",
              "2               0.20                               1                 0  \n",
              "3               2.89                               2                 1  \n",
              "4               0.00                               1                 0  "
            ]
          },
          "metadata": {},
          "output_type": "display_data"
        },
        {
          "data": {
            "text/html": [
              "<div>\n",
              "<style scoped>\n",
              "    .dataframe tbody tr th:only-of-type {\n",
              "        vertical-align: middle;\n",
              "    }\n",
              "\n",
              "    .dataframe tbody tr th {\n",
              "        vertical-align: top;\n",
              "    }\n",
              "\n",
              "    .dataframe thead th {\n",
              "        text-align: right;\n",
              "    }\n",
              "</style>\n",
              "<table border=\"1\" class=\"dataframe\">\n",
              "  <thead>\n",
              "    <tr style=\"text-align: right;\">\n",
              "      <th></th>\n",
              "      <th>id</th>\n",
              "      <th>name</th>\n",
              "      <th>host_id</th>\n",
              "      <th>host_name</th>\n",
              "      <th>neighbourhood_group</th>\n",
              "      <th>neighbourhood</th>\n",
              "      <th>latitude</th>\n",
              "      <th>longitude</th>\n",
              "      <th>room_type</th>\n",
              "      <th>minimum_nights</th>\n",
              "      <th>number_of_reviews</th>\n",
              "      <th>reviews_per_month</th>\n",
              "      <th>calculated_host_listings_count</th>\n",
              "      <th>availability_365</th>\n",
              "    </tr>\n",
              "  </thead>\n",
              "  <tbody>\n",
              "    <tr>\n",
              "      <th>0</th>\n",
              "      <td>30913224</td>\n",
              "      <td>Cozy and Sunny Room Williamsburg, Luxury Building</td>\n",
              "      <td>33771081</td>\n",
              "      <td>Rémy</td>\n",
              "      <td>Brooklyn</td>\n",
              "      <td>Williamsburg</td>\n",
              "      <td>40.70959</td>\n",
              "      <td>-73.94652</td>\n",
              "      <td>Private room</td>\n",
              "      <td>3</td>\n",
              "      <td>2</td>\n",
              "      <td>0.31</td>\n",
              "      <td>1</td>\n",
              "      <td>0</td>\n",
              "    </tr>\n",
              "    <tr>\n",
              "      <th>1</th>\n",
              "      <td>971247</td>\n",
              "      <td>Sunny Artist Live/Work Apartment</td>\n",
              "      <td>5308961</td>\n",
              "      <td>Larry</td>\n",
              "      <td>Manhattan</td>\n",
              "      <td>Upper West Side</td>\n",
              "      <td>40.79368</td>\n",
              "      <td>-73.96487</td>\n",
              "      <td>Entire home/apt</td>\n",
              "      <td>3</td>\n",
              "      <td>159</td>\n",
              "      <td>2.09</td>\n",
              "      <td>1</td>\n",
              "      <td>244</td>\n",
              "    </tr>\n",
              "    <tr>\n",
              "      <th>2</th>\n",
              "      <td>414801</td>\n",
              "      <td>Industrial Brooklyn Loft with Tree-Lined Windows</td>\n",
              "      <td>319077</td>\n",
              "      <td>Shell</td>\n",
              "      <td>Brooklyn</td>\n",
              "      <td>Clinton Hill</td>\n",
              "      <td>40.68722</td>\n",
              "      <td>-73.96289</td>\n",
              "      <td>Entire home/apt</td>\n",
              "      <td>1</td>\n",
              "      <td>54</td>\n",
              "      <td>0.65</td>\n",
              "      <td>4</td>\n",
              "      <td>365</td>\n",
              "    </tr>\n",
              "    <tr>\n",
              "      <th>3</th>\n",
              "      <td>21815842</td>\n",
              "      <td>Spacious 2 bedroom in beautiful Clinton Hill</td>\n",
              "      <td>1931990</td>\n",
              "      <td>Yarden</td>\n",
              "      <td>Brooklyn</td>\n",
              "      <td>Clinton Hill</td>\n",
              "      <td>40.68859</td>\n",
              "      <td>-73.96035</td>\n",
              "      <td>Entire home/apt</td>\n",
              "      <td>3</td>\n",
              "      <td>2</td>\n",
              "      <td>0.13</td>\n",
              "      <td>1</td>\n",
              "      <td>0</td>\n",
              "    </tr>\n",
              "    <tr>\n",
              "      <th>4</th>\n",
              "      <td>13576581</td>\n",
              "      <td>Modern Central Park Apartment close to everything</td>\n",
              "      <td>78325795</td>\n",
              "      <td>Bozhena</td>\n",
              "      <td>Manhattan</td>\n",
              "      <td>Harlem</td>\n",
              "      <td>40.80573</td>\n",
              "      <td>-73.94994</td>\n",
              "      <td>Entire home/apt</td>\n",
              "      <td>1</td>\n",
              "      <td>160</td>\n",
              "      <td>4.31</td>\n",
              "      <td>3</td>\n",
              "      <td>246</td>\n",
              "    </tr>\n",
              "  </tbody>\n",
              "</table>\n",
              "</div>"
            ],
            "text/plain": [
              "         id                                               name   host_id  \\\n",
              "0  30913224  Cozy and Sunny Room Williamsburg, Luxury Building  33771081   \n",
              "1    971247                   Sunny Artist Live/Work Apartment   5308961   \n",
              "2    414801   Industrial Brooklyn Loft with Tree-Lined Windows    319077   \n",
              "3  21815842       Spacious 2 bedroom in beautiful Clinton Hill   1931990   \n",
              "4  13576581  Modern Central Park Apartment close to everything  78325795   \n",
              "\n",
              "  host_name neighbourhood_group    neighbourhood  latitude  longitude  \\\n",
              "0      Rémy            Brooklyn     Williamsburg  40.70959  -73.94652   \n",
              "1     Larry           Manhattan  Upper West Side  40.79368  -73.96487   \n",
              "2     Shell            Brooklyn     Clinton Hill  40.68722  -73.96289   \n",
              "3    Yarden            Brooklyn     Clinton Hill  40.68859  -73.96035   \n",
              "4   Bozhena           Manhattan           Harlem  40.80573  -73.94994   \n",
              "\n",
              "         room_type  minimum_nights  number_of_reviews  reviews_per_month  \\\n",
              "0     Private room               3                  2               0.31   \n",
              "1  Entire home/apt               3                159               2.09   \n",
              "2  Entire home/apt               1                 54               0.65   \n",
              "3  Entire home/apt               3                  2               0.13   \n",
              "4  Entire home/apt               1                160               4.31   \n",
              "\n",
              "   calculated_host_listings_count  availability_365  \n",
              "0                               1                 0  \n",
              "1                               1               244  \n",
              "2                               4               365  \n",
              "3                               1                 0  \n",
              "4                               3               246  "
            ]
          },
          "metadata": {},
          "output_type": "display_data"
        }
      ],
      "source": [
        "#결측치 채우기\n",
        "train['reviews_per_month'] = train['reviews_per_month'].fillna(0)\n",
        "test['reviews_per_month'] = test['reviews_per_month'].fillna(0)\n",
        "display(train.head(5))\n",
        "display(test.head(5))"
      ]
    },
    {
      "cell_type": "code",
      "execution_count": null,
      "id": "cb2e817b",
      "metadata": {
        "id": "cb2e817b",
        "outputId": "55f57a10-602f-4608-99f6-e7fd2c2da47d"
      },
      "outputs": [
        {
          "data": {
            "text/plain": [
              "id                                 0\n",
              "name                              12\n",
              "host_id                            0\n",
              "host_name                         17\n",
              "neighbourhood_group                0\n",
              "neighbourhood                      0\n",
              "latitude                           0\n",
              "longitude                          0\n",
              "room_type                          0\n",
              "price                              0\n",
              "minimum_nights                     0\n",
              "number_of_reviews                  0\n",
              "reviews_per_month                  0\n",
              "calculated_host_listings_count     0\n",
              "availability_365                   0\n",
              "dtype: int64"
            ]
          },
          "execution_count": 15,
          "metadata": {},
          "output_type": "execute_result"
        }
      ],
      "source": [
        "train.isnull().sum()"
      ]
    },
    {
      "cell_type": "code",
      "execution_count": null,
      "id": "acd72274",
      "metadata": {
        "id": "acd72274",
        "outputId": "8203203a-45a8-4964-dc92-8a35d2e0509a"
      },
      "outputs": [
        {
          "data": {
            "text/plain": [
              "id                                0\n",
              "name                              4\n",
              "host_id                           0\n",
              "host_name                         4\n",
              "neighbourhood_group               0\n",
              "neighbourhood                     0\n",
              "latitude                          0\n",
              "longitude                         0\n",
              "room_type                         0\n",
              "minimum_nights                    0\n",
              "number_of_reviews                 0\n",
              "reviews_per_month                 0\n",
              "calculated_host_listings_count    0\n",
              "availability_365                  0\n",
              "dtype: int64"
            ]
          },
          "execution_count": 16,
          "metadata": {},
          "output_type": "execute_result"
        }
      ],
      "source": [
        "test.isnull().sum()"
      ]
    },
    {
      "cell_type": "code",
      "execution_count": null,
      "id": "a5542f70",
      "metadata": {
        "id": "a5542f70",
        "outputId": "9e0e5c9c-e641-43c1-ef6c-a1822dccfe2e"
      },
      "outputs": [
        {
          "data": {
            "text/plain": [
              "(39116, 15)"
            ]
          },
          "execution_count": 17,
          "metadata": {},
          "output_type": "execute_result"
        }
      ],
      "source": [
        "train.shape"
      ]
    },
    {
      "cell_type": "code",
      "execution_count": null,
      "id": "5a64d0f2",
      "metadata": {
        "id": "5a64d0f2",
        "outputId": "1b98b8bf-9b4f-4d20-a604-943b3d05d510"
      },
      "outputs": [
        {
          "data": {
            "text/plain": [
              "(9779, 14)"
            ]
          },
          "execution_count": 18,
          "metadata": {},
          "output_type": "execute_result"
        }
      ],
      "source": [
        "test.shape"
      ]
    },
    {
      "cell_type": "code",
      "execution_count": null,
      "id": "23d88dc5",
      "metadata": {
        "id": "23d88dc5"
      },
      "outputs": [],
      "source": [
        "#가격값 복사 (target = price)\n",
        "target = train['price']\n",
        "train = train.drop('price',axis=1)"
      ]
    },
    {
      "cell_type": "code",
      "execution_count": null,
      "id": "ecb2375b",
      "metadata": {
        "id": "ecb2375b",
        "outputId": "c38e54b2-d77e-4a8b-ab4f-f0b657a55efe"
      },
      "outputs": [
        {
          "data": {
            "text/plain": [
              "0         70\n",
              "1        240\n",
              "2        150\n",
              "3         85\n",
              "4         44\n",
              "        ... \n",
              "39111    185\n",
              "39112     50\n",
              "39113    120\n",
              "39114    165\n",
              "39115    200\n",
              "Name: price, Length: 39116, dtype: int64"
            ]
          },
          "execution_count": 20,
          "metadata": {},
          "output_type": "execute_result"
        }
      ],
      "source": [
        "target"
      ]
    },
    {
      "cell_type": "code",
      "execution_count": null,
      "id": "62975df9",
      "metadata": {
        "id": "62975df9",
        "outputId": "85ccd0ed-d0e2-4905-ea5f-9e3ae561aa88"
      },
      "outputs": [
        {
          "name": "stdout",
          "output_type": "stream",
          "text": [
            "<class 'pandas.core.frame.DataFrame'>\n",
            "RangeIndex: 39116 entries, 0 to 39115\n",
            "Data columns (total 14 columns):\n",
            " #   Column                          Non-Null Count  Dtype  \n",
            "---  ------                          --------------  -----  \n",
            " 0   id                              39116 non-null  int64  \n",
            " 1   name                            39104 non-null  object \n",
            " 2   host_id                         39116 non-null  int64  \n",
            " 3   host_name                       39099 non-null  object \n",
            " 4   neighbourhood_group             39116 non-null  object \n",
            " 5   neighbourhood                   39116 non-null  object \n",
            " 6   latitude                        39116 non-null  float64\n",
            " 7   longitude                       39116 non-null  float64\n",
            " 8   room_type                       39116 non-null  object \n",
            " 9   minimum_nights                  39116 non-null  int64  \n",
            " 10  number_of_reviews               39116 non-null  int64  \n",
            " 11  reviews_per_month               39116 non-null  float64\n",
            " 12  calculated_host_listings_count  39116 non-null  int64  \n",
            " 13  availability_365                39116 non-null  int64  \n",
            "dtypes: float64(3), int64(6), object(5)\n",
            "memory usage: 4.2+ MB\n"
          ]
        }
      ],
      "source": [
        "train.info()"
      ]
    },
    {
      "cell_type": "code",
      "execution_count": null,
      "id": "7e4db5c5",
      "metadata": {
        "id": "7e4db5c5"
      },
      "outputs": [],
      "source": [
        "cols = ['host_id','latitude','longitude','minimum_nights','number_of_reviews','reviews_per_month','calculated_host_listings_count','availability_365']\n",
        "\n",
        "train = train[cols]\n",
        "test = test[cols]"
      ]
    },
    {
      "cell_type": "code",
      "execution_count": null,
      "id": "18a0a46a",
      "metadata": {
        "id": "18a0a46a"
      },
      "outputs": [],
      "source": [
        "#수치형 피처 선택하고 난 다음"
      ]
    },
    {
      "cell_type": "code",
      "execution_count": null,
      "id": "27cfc266",
      "metadata": {
        "id": "27cfc266",
        "outputId": "cd51feb8-2b63-4398-9e88-b09617398377"
      },
      "outputs": [
        {
          "data": {
            "text/plain": [
              "((29337, 8), (9779, 8), (29337,), (9779,))"
            ]
          },
          "execution_count": 37,
          "metadata": {},
          "output_type": "execute_result"
        }
      ],
      "source": [
        "#검증 데이터 분리\n",
        "from sklearn.model_selection import train_test_split\n",
        "\n",
        "X_train, X_val, y_train, y_val = train_test_split(train, target, test_size=0.25, random_state=2022)\n",
        "X_train.shape, X_val.shape, y_train.shape, y_val.shape"
      ]
    },
    {
      "cell_type": "code",
      "execution_count": null,
      "id": "90d278e7",
      "metadata": {
        "id": "90d278e7",
        "outputId": "434a04d6-7bae-41eb-c384-c37adce2a086"
      },
      "outputs": [
        {
          "data": {
            "text/plain": [
              "33046.03936771677"
            ]
          },
          "execution_count": 38,
          "metadata": {},
          "output_type": "execute_result"
        }
      ],
      "source": [
        "#머신러닝 (회귀)\n",
        "from sklearn.linear_model import LinearRegression\n",
        "from sklearn.metrics import mean_squared_error\n",
        "\n",
        "model = LinearRegression()\n",
        "model.fit(X_train, y_train)\n",
        "pred = model.predict(X_val)\n",
        "mean_squared_error(y_val, pred)"
      ]
    },
    {
      "cell_type": "code",
      "execution_count": null,
      "id": "67d60536",
      "metadata": {
        "id": "67d60536",
        "outputId": "dc762e90-0a73-47cd-f0c2-64eb1a7c68c4"
      },
      "outputs": [
        {
          "name": "stderr",
          "output_type": "stream",
          "text": [
            "/opt/conda/lib/python3.9/site-packages/sklearn/linear_model/_ridge.py:156: LinAlgWarning: Ill-conditioned matrix (rcond=3.08005e-19): result may not be accurate.\n",
            "  return linalg.solve(A, Xy, sym_pos=True, overwrite_a=True).T\n"
          ]
        },
        {
          "data": {
            "text/plain": [
              "33049.413696643"
            ]
          },
          "execution_count": 39,
          "metadata": {},
          "output_type": "execute_result"
        }
      ],
      "source": [
        "from sklearn.linear_model import Ridge\n",
        "\n",
        "model = Ridge()\n",
        "model.fit(X_train, y_train)\n",
        "pred = model.predict(X_val)\n",
        "mean_squared_error(y_val, pred)"
      ]
    },
    {
      "cell_type": "code",
      "execution_count": null,
      "id": "b6764d88",
      "metadata": {
        "id": "b6764d88",
        "outputId": "3c2afbea-59e6-4922-bd12-90bc35f44867"
      },
      "outputs": [
        {
          "data": {
            "text/plain": [
              "33760.52722616327"
            ]
          },
          "execution_count": 40,
          "metadata": {},
          "output_type": "execute_result"
        }
      ],
      "source": [
        "from sklearn.linear_model import Lasso\n",
        "\n",
        "model = Lasso()\n",
        "model.fit(X_train, y_train)\n",
        "pred = model.predict(X_val)\n",
        "mean_squared_error(y_val, pred)"
      ]
    },
    {
      "cell_type": "code",
      "execution_count": null,
      "id": "8090d33b",
      "metadata": {
        "id": "8090d33b",
        "outputId": "0d3a6ef0-029d-47ee-94c5-e83bb1bc61c4"
      },
      "outputs": [
        {
          "data": {
            "text/plain": [
              "34575.76487039101"
            ]
          },
          "execution_count": 41,
          "metadata": {},
          "output_type": "execute_result"
        }
      ],
      "source": [
        "from sklearn.linear_model import ElasticNet\n",
        "\n",
        "model = ElasticNet()\n",
        "model.fit(X_train, y_train)\n",
        "pred = model.predict(X_val)\n",
        "mean_squared_error(y_val, pred)"
      ]
    },
    {
      "cell_type": "code",
      "execution_count": null,
      "id": "d3f100ea",
      "metadata": {
        "id": "d3f100ea",
        "outputId": "361db0c6-3af2-4510-a34c-70ac2df82759"
      },
      "outputs": [
        {
          "data": {
            "text/plain": [
              "33575.94142405154"
            ]
          },
          "execution_count": 42,
          "metadata": {},
          "output_type": "execute_result"
        }
      ],
      "source": [
        "from sklearn.ensemble import RandomForestRegressor\n",
        "\n",
        "model = RandomForestRegressor(random_state = 2022)\n",
        "model.fit(X_train, y_train)\n",
        "pred = model.predict(X_val)\n",
        "mean_squared_error(y_val, pred)"
      ]
    },
    {
      "cell_type": "code",
      "execution_count": null,
      "id": "64381690",
      "metadata": {
        "id": "64381690",
        "outputId": "af683eda-2e37-4e1d-cf8b-6762456ef97b"
      },
      "outputs": [
        {
          "name": "stderr",
          "output_type": "stream",
          "text": [
            "/opt/conda/lib/python3.9/site-packages/pkg_resources/__init__.py:122: PkgResourcesDeprecationWarning: 0.996-ko-0.9.2 is an invalid version and will not be supported in a future release\n",
            "  warnings.warn(\n"
          ]
        },
        {
          "data": {
            "text/plain": [
              "33575.94142405154"
            ]
          },
          "execution_count": 43,
          "metadata": {},
          "output_type": "execute_result"
        }
      ],
      "source": [
        "from xgboost import XGBRegressor\n",
        "\n",
        "model = RandomForestRegressor(random_state = 2022)\n",
        "model.fit(X_train, y_train)\n",
        "pred = model.predict(X_val)\n",
        "mean_squared_error(y_val, pred)"
      ]
    },
    {
      "cell_type": "code",
      "execution_count": null,
      "id": "ca66f9a4",
      "metadata": {
        "id": "ca66f9a4"
      },
      "outputs": [],
      "source": [
        "from sklearn.model_selection import RandomizedSearchCV"
      ]
    },
    {
      "cell_type": "code",
      "execution_count": null,
      "id": "186f2dec",
      "metadata": {
        "id": "186f2dec"
      },
      "outputs": [],
      "source": [
        "params = {\n",
        "    'learning_rate' : [0.07, 0.05],\n",
        "    'max_depth':[3,5,7],\n",
        "    'n_estimators':[100,200],\n",
        "    'subsample':[0.9,0.8,0.7]\n",
        "}"
      ]
    },
    {
      "cell_type": "code",
      "execution_count": null,
      "id": "bf9e3377",
      "metadata": {
        "id": "bf9e3377",
        "outputId": "00161bec-79a5-4196-9ce1-db5372f63ba0"
      },
      "outputs": [
        {
          "name": "stderr",
          "output_type": "stream",
          "text": [
            "/opt/conda/lib/python3.9/site-packages/pkg_resources/__init__.py:122: PkgResourcesDeprecationWarning: 0.996-ko-0.9.2 is an invalid version and will not be supported in a future release\n",
            "  warnings.warn(\n",
            "/opt/conda/lib/python3.9/site-packages/pkg_resources/__init__.py:122: PkgResourcesDeprecationWarning: 0.996-ko-0.9.2 is an invalid version and will not be supported in a future release\n",
            "  warnings.warn(\n"
          ]
        },
        {
          "data": {
            "text/plain": [
              "RandomizedSearchCV(cv=3,\n",
              "                   estimator=XGBRegressor(base_score=None, booster=None,\n",
              "                                          colsample_bylevel=None,\n",
              "                                          colsample_bynode=None,\n",
              "                                          colsample_bytree=None, gamma=None,\n",
              "                                          gpu_id=None, importance_type='gain',\n",
              "                                          interaction_constraints=None,\n",
              "                                          learning_rate=None,\n",
              "                                          max_delta_step=None, max_depth=None,\n",
              "                                          min_child_weight=None, missing=nan,\n",
              "                                          monotone_constraints=None,\n",
              "                                          n_estimators=100, n_jobs=None,\n",
              "                                          num_parallel_tree=None,\n",
              "                                          random_state=None, reg_alpha=None,\n",
              "                                          reg_lambda=None,\n",
              "                                          scale_pos_weight=None, subsample=None,\n",
              "                                          tree_method=None,\n",
              "                                          validate_parameters=None,\n",
              "                                          verbosity=None),\n",
              "                   n_iter=15, n_jobs=-1,\n",
              "                   param_distributions={'learning_rate': [0.07, 0.05],\n",
              "                                        'max_depth': [3, 5, 7],\n",
              "                                        'n_estimators': [100, 200],\n",
              "                                        'subsample': [0.9, 0.8, 0.7]})"
            ]
          },
          "execution_count": 47,
          "metadata": {},
          "output_type": "execute_result"
        }
      ],
      "source": [
        "xgb = XGBRegressor()\n",
        "grid = RandomizedSearchCV(xgb, params, n_iter = 15, cv=3, n_jobs=-1)\n",
        "grid.fit(X_train, y_train)"
      ]
    },
    {
      "cell_type": "code",
      "execution_count": null,
      "id": "bc4df889",
      "metadata": {
        "id": "bc4df889",
        "outputId": "a73f2c83-c683-4bac-9812-3752f3698248"
      },
      "outputs": [
        {
          "data": {
            "text/plain": [
              "{'subsample': 0.7, 'n_estimators': 100, 'max_depth': 5, 'learning_rate': 0.05}"
            ]
          },
          "execution_count": 48,
          "metadata": {},
          "output_type": "execute_result"
        }
      ],
      "source": [
        "grid.best_params_"
      ]
    },
    {
      "cell_type": "code",
      "execution_count": null,
      "id": "8cea33e6",
      "metadata": {
        "id": "8cea33e6",
        "outputId": "4df25d4d-2936-468f-c9fd-85b8bc3dcf60"
      },
      "outputs": [
        {
          "data": {
            "text/plain": [
              "31032.90139959751"
            ]
          },
          "execution_count": 49,
          "metadata": {},
          "output_type": "execute_result"
        }
      ],
      "source": [
        "# Xgboost\n",
        "from xgboost import XGBRegressor\n",
        "\n",
        "model = XGBRegressor(learning_rate = 0.05, max_depth = 5, subsample = 0.7, n_estimators = 100)\n",
        "model.fit(X_train, y_train)\n",
        "pred = model.predict(X_val)\n",
        "mean_squared_error(y_val, pred)"
      ]
    },
    {
      "cell_type": "code",
      "execution_count": null,
      "id": "75ee7156",
      "metadata": {
        "id": "75ee7156"
      },
      "outputs": [],
      "source": []
    }
  ],
  "metadata": {
    "kernelspec": {
      "display_name": "Python 3 (ipykernel)",
      "language": "python",
      "name": "python3"
    },
    "language_info": {
      "codemirror_mode": {
        "name": "ipython",
        "version": 3
      },
      "file_extension": ".py",
      "mimetype": "text/x-python",
      "name": "python",
      "nbconvert_exporter": "python",
      "pygments_lexer": "ipython3",
      "version": "3.9.7"
    },
    "colab": {
      "provenance": [],
      "include_colab_link": true
    }
  },
  "nbformat": 4,
  "nbformat_minor": 5
}